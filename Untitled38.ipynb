{
 "cells": [
  {
   "cell_type": "code",
   "execution_count": 1,
   "id": "9726ffad",
   "metadata": {},
   "outputs": [],
   "source": [
    "import pandas as pd\n",
    "import numpy as np\n",
    "import warnings \n",
    "warnings.filterwarnings('ignore')\n",
    "import seaborn as sns"
   ]
  },
  {
   "cell_type": "code",
   "execution_count": 2,
   "id": "634d7a40",
   "metadata": {},
   "outputs": [
    {
     "data": {
      "text/html": [
       "<div>\n",
       "<style scoped>\n",
       "    .dataframe tbody tr th:only-of-type {\n",
       "        vertical-align: middle;\n",
       "    }\n",
       "\n",
       "    .dataframe tbody tr th {\n",
       "        vertical-align: top;\n",
       "    }\n",
       "\n",
       "    .dataframe thead th {\n",
       "        text-align: right;\n",
       "    }\n",
       "</style>\n",
       "<table border=\"1\" class=\"dataframe\">\n",
       "  <thead>\n",
       "    <tr style=\"text-align: right;\">\n",
       "      <th></th>\n",
       "      <th>Id</th>\n",
       "      <th>MSSubClass</th>\n",
       "      <th>MSZoning</th>\n",
       "      <th>LotFrontage</th>\n",
       "      <th>LotArea</th>\n",
       "      <th>Street</th>\n",
       "      <th>Alley</th>\n",
       "      <th>LotShape</th>\n",
       "      <th>LandContour</th>\n",
       "      <th>Utilities</th>\n",
       "      <th>...</th>\n",
       "      <th>PoolArea</th>\n",
       "      <th>PoolQC</th>\n",
       "      <th>Fence</th>\n",
       "      <th>MiscFeature</th>\n",
       "      <th>MiscVal</th>\n",
       "      <th>MoSold</th>\n",
       "      <th>YrSold</th>\n",
       "      <th>SaleType</th>\n",
       "      <th>SaleCondition</th>\n",
       "      <th>SalePrice</th>\n",
       "    </tr>\n",
       "  </thead>\n",
       "  <tbody>\n",
       "    <tr>\n",
       "      <th>0</th>\n",
       "      <td>1</td>\n",
       "      <td>60</td>\n",
       "      <td>RL</td>\n",
       "      <td>65.0</td>\n",
       "      <td>8450</td>\n",
       "      <td>Pave</td>\n",
       "      <td>NaN</td>\n",
       "      <td>Reg</td>\n",
       "      <td>Lvl</td>\n",
       "      <td>AllPub</td>\n",
       "      <td>...</td>\n",
       "      <td>0</td>\n",
       "      <td>NaN</td>\n",
       "      <td>NaN</td>\n",
       "      <td>NaN</td>\n",
       "      <td>0</td>\n",
       "      <td>2</td>\n",
       "      <td>2008</td>\n",
       "      <td>WD</td>\n",
       "      <td>Normal</td>\n",
       "      <td>208500</td>\n",
       "    </tr>\n",
       "    <tr>\n",
       "      <th>1</th>\n",
       "      <td>2</td>\n",
       "      <td>20</td>\n",
       "      <td>RL</td>\n",
       "      <td>80.0</td>\n",
       "      <td>9600</td>\n",
       "      <td>Pave</td>\n",
       "      <td>NaN</td>\n",
       "      <td>Reg</td>\n",
       "      <td>Lvl</td>\n",
       "      <td>AllPub</td>\n",
       "      <td>...</td>\n",
       "      <td>0</td>\n",
       "      <td>NaN</td>\n",
       "      <td>NaN</td>\n",
       "      <td>NaN</td>\n",
       "      <td>0</td>\n",
       "      <td>5</td>\n",
       "      <td>2007</td>\n",
       "      <td>WD</td>\n",
       "      <td>Normal</td>\n",
       "      <td>181500</td>\n",
       "    </tr>\n",
       "    <tr>\n",
       "      <th>2</th>\n",
       "      <td>3</td>\n",
       "      <td>60</td>\n",
       "      <td>RL</td>\n",
       "      <td>68.0</td>\n",
       "      <td>11250</td>\n",
       "      <td>Pave</td>\n",
       "      <td>NaN</td>\n",
       "      <td>IR1</td>\n",
       "      <td>Lvl</td>\n",
       "      <td>AllPub</td>\n",
       "      <td>...</td>\n",
       "      <td>0</td>\n",
       "      <td>NaN</td>\n",
       "      <td>NaN</td>\n",
       "      <td>NaN</td>\n",
       "      <td>0</td>\n",
       "      <td>9</td>\n",
       "      <td>2008</td>\n",
       "      <td>WD</td>\n",
       "      <td>Normal</td>\n",
       "      <td>223500</td>\n",
       "    </tr>\n",
       "    <tr>\n",
       "      <th>3</th>\n",
       "      <td>4</td>\n",
       "      <td>70</td>\n",
       "      <td>RL</td>\n",
       "      <td>60.0</td>\n",
       "      <td>9550</td>\n",
       "      <td>Pave</td>\n",
       "      <td>NaN</td>\n",
       "      <td>IR1</td>\n",
       "      <td>Lvl</td>\n",
       "      <td>AllPub</td>\n",
       "      <td>...</td>\n",
       "      <td>0</td>\n",
       "      <td>NaN</td>\n",
       "      <td>NaN</td>\n",
       "      <td>NaN</td>\n",
       "      <td>0</td>\n",
       "      <td>2</td>\n",
       "      <td>2006</td>\n",
       "      <td>WD</td>\n",
       "      <td>Abnorml</td>\n",
       "      <td>140000</td>\n",
       "    </tr>\n",
       "    <tr>\n",
       "      <th>4</th>\n",
       "      <td>5</td>\n",
       "      <td>60</td>\n",
       "      <td>RL</td>\n",
       "      <td>84.0</td>\n",
       "      <td>14260</td>\n",
       "      <td>Pave</td>\n",
       "      <td>NaN</td>\n",
       "      <td>IR1</td>\n",
       "      <td>Lvl</td>\n",
       "      <td>AllPub</td>\n",
       "      <td>...</td>\n",
       "      <td>0</td>\n",
       "      <td>NaN</td>\n",
       "      <td>NaN</td>\n",
       "      <td>NaN</td>\n",
       "      <td>0</td>\n",
       "      <td>12</td>\n",
       "      <td>2008</td>\n",
       "      <td>WD</td>\n",
       "      <td>Normal</td>\n",
       "      <td>250000</td>\n",
       "    </tr>\n",
       "  </tbody>\n",
       "</table>\n",
       "<p>5 rows × 81 columns</p>\n",
       "</div>"
      ],
      "text/plain": [
       "   Id  MSSubClass MSZoning  LotFrontage  LotArea Street Alley LotShape  \\\n",
       "0   1          60       RL         65.0     8450   Pave   NaN      Reg   \n",
       "1   2          20       RL         80.0     9600   Pave   NaN      Reg   \n",
       "2   3          60       RL         68.0    11250   Pave   NaN      IR1   \n",
       "3   4          70       RL         60.0     9550   Pave   NaN      IR1   \n",
       "4   5          60       RL         84.0    14260   Pave   NaN      IR1   \n",
       "\n",
       "  LandContour Utilities  ... PoolArea PoolQC Fence MiscFeature MiscVal MoSold  \\\n",
       "0         Lvl    AllPub  ...        0    NaN   NaN         NaN       0      2   \n",
       "1         Lvl    AllPub  ...        0    NaN   NaN         NaN       0      5   \n",
       "2         Lvl    AllPub  ...        0    NaN   NaN         NaN       0      9   \n",
       "3         Lvl    AllPub  ...        0    NaN   NaN         NaN       0      2   \n",
       "4         Lvl    AllPub  ...        0    NaN   NaN         NaN       0     12   \n",
       "\n",
       "  YrSold  SaleType  SaleCondition  SalePrice  \n",
       "0   2008        WD         Normal     208500  \n",
       "1   2007        WD         Normal     181500  \n",
       "2   2008        WD         Normal     223500  \n",
       "3   2006        WD        Abnorml     140000  \n",
       "4   2008        WD         Normal     250000  \n",
       "\n",
       "[5 rows x 81 columns]"
      ]
     },
     "execution_count": 2,
     "metadata": {},
     "output_type": "execute_result"
    }
   ],
   "source": [
    "train=pd.read_csv(\"C:/Users/admin/Downloads/training_set.csv\")\n",
    "train.head()"
   ]
  },
  {
   "cell_type": "code",
   "execution_count": 3,
   "id": "e0dd2108",
   "metadata": {},
   "outputs": [
    {
     "data": {
      "text/html": [
       "<div>\n",
       "<style scoped>\n",
       "    .dataframe tbody tr th:only-of-type {\n",
       "        vertical-align: middle;\n",
       "    }\n",
       "\n",
       "    .dataframe tbody tr th {\n",
       "        vertical-align: top;\n",
       "    }\n",
       "\n",
       "    .dataframe thead th {\n",
       "        text-align: right;\n",
       "    }\n",
       "</style>\n",
       "<table border=\"1\" class=\"dataframe\">\n",
       "  <thead>\n",
       "    <tr style=\"text-align: right;\">\n",
       "      <th></th>\n",
       "      <th>Id</th>\n",
       "      <th>MSSubClass</th>\n",
       "      <th>MSZoning</th>\n",
       "      <th>LotFrontage</th>\n",
       "      <th>LotArea</th>\n",
       "      <th>Street</th>\n",
       "      <th>Alley</th>\n",
       "      <th>LotShape</th>\n",
       "      <th>LandContour</th>\n",
       "      <th>Utilities</th>\n",
       "      <th>...</th>\n",
       "      <th>ScreenPorch</th>\n",
       "      <th>PoolArea</th>\n",
       "      <th>PoolQC</th>\n",
       "      <th>Fence</th>\n",
       "      <th>MiscFeature</th>\n",
       "      <th>MiscVal</th>\n",
       "      <th>MoSold</th>\n",
       "      <th>YrSold</th>\n",
       "      <th>SaleType</th>\n",
       "      <th>SaleCondition</th>\n",
       "    </tr>\n",
       "  </thead>\n",
       "  <tbody>\n",
       "    <tr>\n",
       "      <th>0</th>\n",
       "      <td>1461</td>\n",
       "      <td>20</td>\n",
       "      <td>RH</td>\n",
       "      <td>80.0</td>\n",
       "      <td>11622</td>\n",
       "      <td>Pave</td>\n",
       "      <td>NaN</td>\n",
       "      <td>Reg</td>\n",
       "      <td>Lvl</td>\n",
       "      <td>AllPub</td>\n",
       "      <td>...</td>\n",
       "      <td>120</td>\n",
       "      <td>0</td>\n",
       "      <td>NaN</td>\n",
       "      <td>MnPrv</td>\n",
       "      <td>NaN</td>\n",
       "      <td>0</td>\n",
       "      <td>6</td>\n",
       "      <td>2010</td>\n",
       "      <td>WD</td>\n",
       "      <td>Normal</td>\n",
       "    </tr>\n",
       "    <tr>\n",
       "      <th>1</th>\n",
       "      <td>1462</td>\n",
       "      <td>20</td>\n",
       "      <td>RL</td>\n",
       "      <td>81.0</td>\n",
       "      <td>14267</td>\n",
       "      <td>Pave</td>\n",
       "      <td>NaN</td>\n",
       "      <td>IR1</td>\n",
       "      <td>Lvl</td>\n",
       "      <td>AllPub</td>\n",
       "      <td>...</td>\n",
       "      <td>0</td>\n",
       "      <td>0</td>\n",
       "      <td>NaN</td>\n",
       "      <td>NaN</td>\n",
       "      <td>Gar2</td>\n",
       "      <td>12500</td>\n",
       "      <td>6</td>\n",
       "      <td>2010</td>\n",
       "      <td>WD</td>\n",
       "      <td>Normal</td>\n",
       "    </tr>\n",
       "    <tr>\n",
       "      <th>2</th>\n",
       "      <td>1463</td>\n",
       "      <td>60</td>\n",
       "      <td>RL</td>\n",
       "      <td>74.0</td>\n",
       "      <td>13830</td>\n",
       "      <td>Pave</td>\n",
       "      <td>NaN</td>\n",
       "      <td>IR1</td>\n",
       "      <td>Lvl</td>\n",
       "      <td>AllPub</td>\n",
       "      <td>...</td>\n",
       "      <td>0</td>\n",
       "      <td>0</td>\n",
       "      <td>NaN</td>\n",
       "      <td>MnPrv</td>\n",
       "      <td>NaN</td>\n",
       "      <td>0</td>\n",
       "      <td>3</td>\n",
       "      <td>2010</td>\n",
       "      <td>WD</td>\n",
       "      <td>Normal</td>\n",
       "    </tr>\n",
       "    <tr>\n",
       "      <th>3</th>\n",
       "      <td>1464</td>\n",
       "      <td>60</td>\n",
       "      <td>RL</td>\n",
       "      <td>78.0</td>\n",
       "      <td>9978</td>\n",
       "      <td>Pave</td>\n",
       "      <td>NaN</td>\n",
       "      <td>IR1</td>\n",
       "      <td>Lvl</td>\n",
       "      <td>AllPub</td>\n",
       "      <td>...</td>\n",
       "      <td>0</td>\n",
       "      <td>0</td>\n",
       "      <td>NaN</td>\n",
       "      <td>NaN</td>\n",
       "      <td>NaN</td>\n",
       "      <td>0</td>\n",
       "      <td>6</td>\n",
       "      <td>2010</td>\n",
       "      <td>WD</td>\n",
       "      <td>Normal</td>\n",
       "    </tr>\n",
       "    <tr>\n",
       "      <th>4</th>\n",
       "      <td>1465</td>\n",
       "      <td>120</td>\n",
       "      <td>RL</td>\n",
       "      <td>43.0</td>\n",
       "      <td>5005</td>\n",
       "      <td>Pave</td>\n",
       "      <td>NaN</td>\n",
       "      <td>IR1</td>\n",
       "      <td>HLS</td>\n",
       "      <td>AllPub</td>\n",
       "      <td>...</td>\n",
       "      <td>144</td>\n",
       "      <td>0</td>\n",
       "      <td>NaN</td>\n",
       "      <td>NaN</td>\n",
       "      <td>NaN</td>\n",
       "      <td>0</td>\n",
       "      <td>1</td>\n",
       "      <td>2010</td>\n",
       "      <td>WD</td>\n",
       "      <td>Normal</td>\n",
       "    </tr>\n",
       "  </tbody>\n",
       "</table>\n",
       "<p>5 rows × 80 columns</p>\n",
       "</div>"
      ],
      "text/plain": [
       "     Id  MSSubClass MSZoning  LotFrontage  LotArea Street Alley LotShape  \\\n",
       "0  1461          20       RH         80.0    11622   Pave   NaN      Reg   \n",
       "1  1462          20       RL         81.0    14267   Pave   NaN      IR1   \n",
       "2  1463          60       RL         74.0    13830   Pave   NaN      IR1   \n",
       "3  1464          60       RL         78.0     9978   Pave   NaN      IR1   \n",
       "4  1465         120       RL         43.0     5005   Pave   NaN      IR1   \n",
       "\n",
       "  LandContour Utilities  ... ScreenPorch PoolArea PoolQC  Fence MiscFeature  \\\n",
       "0         Lvl    AllPub  ...         120        0    NaN  MnPrv         NaN   \n",
       "1         Lvl    AllPub  ...           0        0    NaN    NaN        Gar2   \n",
       "2         Lvl    AllPub  ...           0        0    NaN  MnPrv         NaN   \n",
       "3         Lvl    AllPub  ...           0        0    NaN    NaN         NaN   \n",
       "4         HLS    AllPub  ...         144        0    NaN    NaN         NaN   \n",
       "\n",
       "  MiscVal MoSold  YrSold  SaleType  SaleCondition  \n",
       "0       0      6    2010        WD         Normal  \n",
       "1   12500      6    2010        WD         Normal  \n",
       "2       0      3    2010        WD         Normal  \n",
       "3       0      6    2010        WD         Normal  \n",
       "4       0      1    2010        WD         Normal  \n",
       "\n",
       "[5 rows x 80 columns]"
      ]
     },
     "execution_count": 3,
     "metadata": {},
     "output_type": "execute_result"
    }
   ],
   "source": [
    "test=pd.read_csv(\"C:/Users/admin/Downloads/testing_set.csv\")\n",
    "test.head()"
   ]
  },
  {
   "cell_type": "code",
   "execution_count": 4,
   "id": "8a0d34b8",
   "metadata": {},
   "outputs": [],
   "source": [
    "train.Alley=train.Alley.fillna(\"No alley access\")\n",
    "train.BsmtQual=train.BsmtQual.fillna(\"No Basement\")\n",
    "train.BsmtCond=train.BsmtCond.fillna(\"No Basement\")\n",
    "train.BsmtExposure=train.BsmtExposure.fillna(\"No Basement\")\n",
    "train.BsmtFinType1=train.BsmtFinType1.fillna(\"No Basement\")\n",
    "train.BsmtFinType2=train.BsmtFinType2.fillna(\"No Basement\")\n",
    "train.FireplaceQu=train.FireplaceQu.fillna(\"No Fireplace\")\n",
    "train.GarageType=train.GarageType.fillna(\"No Garage\")\n",
    "train.GarageFinish=train.GarageFinish.fillna(\"No Garage\")\n",
    "train.GarageQual=train.GarageQual.fillna(\"No Garage\")\n",
    "train.GarageCond=train.GarageCond.fillna(\"No Garage\")\n",
    "train.PoolQC=train.PoolQC.fillna(\"No Pool\")\n",
    "train.Fence=train.Fence.fillna(\"No Fence\")\n",
    "train.MiscFeature=train.MiscFeature.fillna(\"None\")\n",
    "\n",
    "test.Alley=test.Alley.fillna(\"No alley access\")\n",
    "test.BsmtQual=test.BsmtQual.fillna(\"No Basement\")\n",
    "test.BsmtCond=test.BsmtCond.fillna(\"No Basement\")\n",
    "test.BsmtExposure=test.BsmtExposure.fillna(\"No Basement\")\n",
    "test.BsmtFinType1=test.BsmtFinType1.fillna(\"No Basement\")\n",
    "test.BsmtFinType2=test.BsmtFinType2.fillna(\"No Basement\")\n",
    "test.FireplaceQu=test.FireplaceQu.fillna(\"No Fireplace\")\n",
    "test.GarageType=test.GarageType.fillna(\"No Garage\")\n",
    "test.GarageFinish=test.GarageFinish.fillna(\"No Garage\")\n",
    "test.GarageQual=test.GarageQual.fillna(\"No Garage\")\n",
    "test.GarageCond=test.GarageCond.fillna(\"No Garage\")\n",
    "test.PoolQC=test.PoolQC.fillna(\"No Pool\")\n",
    "test.Fence=test.Fence.fillna(\"No Fence\")\n",
    "test.MiscFeature=test.MiscFeature.fillna(\"None\")\n"
   ]
  },
  {
   "cell_type": "code",
   "execution_count": 5,
   "id": "b3234e8a",
   "metadata": {},
   "outputs": [
    {
     "data": {
      "text/plain": [
       "LotFrontage    259\n",
       "GarageYrBlt     81\n",
       "MasVnrType       8\n",
       "MasVnrArea       8\n",
       "Electrical       1\n",
       "              ... \n",
       "ExterCond        0\n",
       "ExterQual        0\n",
       "Exterior2nd      0\n",
       "Exterior1st      0\n",
       "SalePrice        0\n",
       "Length: 81, dtype: int64"
      ]
     },
     "execution_count": 5,
     "metadata": {},
     "output_type": "execute_result"
    }
   ],
   "source": [
    "train.isna().sum().sort_values(ascending=False)"
   ]
  },
  {
   "cell_type": "code",
   "execution_count": 6,
   "id": "b54cb24f",
   "metadata": {},
   "outputs": [],
   "source": [
    "for i in train.columns:\n",
    "    if(train[i].dtypes == \"object\"):\n",
    "        x = train[i].mode()[0]\n",
    "        train[i] = train[i].fillna(x)\n",
    "    else:\n",
    "        x = train[i].mean()\n",
    "        train[i] = train[i].fillna(x)"
   ]
  },
  {
   "cell_type": "code",
   "execution_count": 7,
   "id": "84ec2683",
   "metadata": {},
   "outputs": [],
   "source": [
    "for i in test.columns:\n",
    "    if(test[i].dtypes == \"object\"):\n",
    "        x = test[i].mode()[0]\n",
    "        test[i] = test[i].fillna(x)\n",
    "    else:\n",
    "        x = test[i].mean()\n",
    "        test[i] = test[i].fillna(x)\n",
    "        "
   ]
  },
  {
   "cell_type": "code",
   "execution_count": 8,
   "id": "5026b2aa",
   "metadata": {},
   "outputs": [
    {
     "data": {
      "text/plain": [
       "Id               0\n",
       "MSSubClass       0\n",
       "MSZoning         0\n",
       "LotFrontage      0\n",
       "LotArea          0\n",
       "                ..\n",
       "MoSold           0\n",
       "YrSold           0\n",
       "SaleType         0\n",
       "SaleCondition    0\n",
       "SalePrice        0\n",
       "Length: 81, dtype: int64"
      ]
     },
     "execution_count": 8,
     "metadata": {},
     "output_type": "execute_result"
    }
   ],
   "source": [
    "train.isna().sum()"
   ]
  },
  {
   "cell_type": "code",
   "execution_count": 9,
   "id": "0eedf721",
   "metadata": {},
   "outputs": [
    {
     "data": {
      "text/plain": [
       "Id               0\n",
       "MSSubClass       0\n",
       "MSZoning         0\n",
       "LotFrontage      0\n",
       "LotArea          0\n",
       "                ..\n",
       "MiscVal          0\n",
       "MoSold           0\n",
       "YrSold           0\n",
       "SaleType         0\n",
       "SaleCondition    0\n",
       "Length: 80, dtype: int64"
      ]
     },
     "execution_count": 9,
     "metadata": {},
     "output_type": "execute_result"
    }
   ],
   "source": [
    "test.isna().sum()"
   ]
  },
  {
   "cell_type": "code",
   "execution_count": 10,
   "id": "482760d7",
   "metadata": {},
   "outputs": [],
   "source": [
    "cat = []\n",
    "con = []\n",
    "for i in train.columns:\n",
    "    if(train[i].dtypes == \"object\"):\n",
    "        cat.append(i)\n",
    "    else:\n",
    "        con.append(i)"
   ]
  },
  {
   "cell_type": "code",
   "execution_count": 11,
   "id": "00c54f08",
   "metadata": {},
   "outputs": [
    {
     "data": {
      "text/plain": [
       "KitchenAbvGr    -0.135907\n",
       "EnclosedPorch   -0.128578\n",
       "MSSubClass      -0.084284\n",
       "OverallCond     -0.077856\n",
       "YrSold          -0.028923\n",
       "LowQualFinSF    -0.025606\n",
       "Id              -0.021917\n",
       "MiscVal         -0.021190\n",
       "BsmtHalfBath    -0.016844\n",
       "BsmtFinSF2      -0.011378\n",
       "3SsnPorch        0.044584\n",
       "MoSold           0.046432\n",
       "PoolArea         0.092404\n",
       "ScreenPorch      0.111447\n",
       "BedroomAbvGr     0.168213\n",
       "BsmtUnfSF        0.214479\n",
       "BsmtFullBath     0.227122\n",
       "LotArea          0.263843\n",
       "HalfBath         0.284108\n",
       "OpenPorchSF      0.315856\n",
       "2ndFlrSF         0.319334\n",
       "WoodDeckSF       0.324413\n",
       "LotFrontage      0.334901\n",
       "BsmtFinSF1       0.386420\n",
       "Fireplaces       0.466929\n",
       "GarageYrBlt      0.470177\n",
       "MasVnrArea       0.475241\n",
       "YearRemodAdd     0.507101\n",
       "YearBuilt        0.522897\n",
       "TotRmsAbvGrd     0.533723\n",
       "FullBath         0.560664\n",
       "1stFlrSF         0.605852\n",
       "TotalBsmtSF      0.613581\n",
       "GarageArea       0.623431\n",
       "GarageCars       0.640409\n",
       "GrLivArea        0.708624\n",
       "OverallQual      0.790982\n",
       "SalePrice        1.000000\n",
       "Name: SalePrice, dtype: float64"
      ]
     },
     "execution_count": 11,
     "metadata": {},
     "output_type": "execute_result"
    }
   ],
   "source": [
    "train.corr()['SalePrice'].sort_values()"
   ]
  },
  {
   "cell_type": "code",
   "execution_count": 12,
   "id": "d1137b69",
   "metadata": {},
   "outputs": [],
   "source": [
    "X=train.drop(labels=[\"Id\",'SalePrice'],axis=1)\n",
    "Y=train[['SalePrice']]"
   ]
  },
  {
   "cell_type": "code",
   "execution_count": 13,
   "id": "1091c818",
   "metadata": {},
   "outputs": [],
   "source": [
    "con.remove('SalePrice')"
   ]
  },
  {
   "cell_type": "code",
   "execution_count": 14,
   "id": "948a67e2",
   "metadata": {},
   "outputs": [],
   "source": [
    "con.remove('Id')"
   ]
  },
  {
   "cell_type": "code",
   "execution_count": 15,
   "id": "a644b498",
   "metadata": {},
   "outputs": [],
   "source": [
    "from sklearn.preprocessing import StandardScaler\n",
    "ss = StandardScaler()\n",
    "X1 = pd.DataFrame(ss.fit_transform(X[con]),columns=con)\n",
    "X2 = pd.get_dummies(X[cat])\n",
    "Xnew = X1.join(X2)"
   ]
  },
  {
   "cell_type": "code",
   "execution_count": 16,
   "id": "9d9b4ef5",
   "metadata": {},
   "outputs": [],
   "source": [
    "from sklearn.model_selection import train_test_split\n",
    "xtrain,xtest,ytrain,ytest=train_test_split(Xnew,Y,test_size=0.2,random_state=31)"
   ]
  },
  {
   "cell_type": "code",
   "execution_count": 17,
   "id": "c57cf519",
   "metadata": {},
   "outputs": [
    {
     "name": "stdout",
     "output_type": "stream",
     "text": [
      "Adj Rsquared: 0.9334\n"
     ]
    }
   ],
   "source": [
    "from statsmodels.api import OLS,add_constant\n",
    "xconst = add_constant(xtrain)\n",
    "ols = OLS(ytrain,xconst)\n",
    "model = ols.fit()\n",
    "print(\"Adj Rsquared:\",round(model.rsquared_adj,4))"
   ]
  },
  {
   "cell_type": "code",
   "execution_count": 18,
   "id": "6c1463e6",
   "metadata": {},
   "outputs": [
    {
     "name": "stdout",
     "output_type": "stream",
     "text": [
      "Dropped column: ExterCond_Ex\n",
      "Adj Rsquared: 0.9334\n"
     ]
    }
   ],
   "source": [
    "col_with_high_pval = model.pvalues.sort_values().index[-1]\n",
    "Xnew = Xnew.drop(labels=col_with_high_pval,axis=1)\n",
    "print(\"Dropped column:\",col_with_high_pval)\n",
    "from sklearn.model_selection import train_test_split\n",
    "xtrain,xtest,ytrain,ytest=train_test_split(Xnew,Y,test_size=0.2,random_state=31)\n",
    "\n",
    "#Ordinary Least Squares(OLS)\n",
    "\n",
    "from statsmodels.api import OLS,add_constant\n",
    "xconst = add_constant(xtrain)\n",
    "ols = OLS(ytrain,xconst)\n",
    "model = ols.fit()\n",
    "#model.summary()\n",
    "print(\"Adj Rsquared:\",round(model.rsquared_adj,4))"
   ]
  },
  {
   "cell_type": "code",
   "execution_count": 19,
   "id": "f859306f",
   "metadata": {},
   "outputs": [
    {
     "name": "stdout",
     "output_type": "stream",
     "text": [
      "Adj Rsquared: 0.9334\n",
      "Dropped column: FireplaceQu_No Fireplace\n",
      "Adj Rsquared: 0.9334\n",
      "Dropped column: Exterior1st_AsphShn\n",
      "Adj Rsquared: 0.9334\n",
      "Dropped column: Exterior1st_MetalSd\n",
      "Adj Rsquared: 0.9335\n",
      "Dropped column: Exterior2nd_HdBoard\n",
      "Adj Rsquared: 0.9335\n",
      "Dropped column: Exterior2nd_Brk Cmn\n",
      "Adj Rsquared: 0.9336\n",
      "Dropped column: MiscVal\n",
      "Adj Rsquared: 0.9336\n",
      "Dropped column: SaleCondition_AdjLand\n",
      "Adj Rsquared: 0.9336\n",
      "Dropped column: Foundation_PConc\n",
      "Adj Rsquared: 0.9336\n",
      "Dropped column: Exterior1st_Stone\n",
      "Adj Rsquared: 0.9337\n",
      "Dropped column: MasVnrType_Stone\n"
     ]
    }
   ],
   "source": [
    "for i in range(0,10):\n",
    "    from statsmodels.api import OLS,add_constant\n",
    "    xconst = add_constant(xtrain)\n",
    "    ols = OLS(ytrain,xconst)\n",
    "    model = ols.fit()\n",
    "    print(\"Adj Rsquared:\",round(model.rsquared_adj,4))\n",
    "    col_with_high_pval = model.pvalues.sort_values().index[-1]\n",
    "    Xnew = Xnew.drop(labels=col_with_high_pval,axis=1)\n",
    "    print(\"Dropped column:\",col_with_high_pval)\n",
    "    from sklearn.model_selection import train_test_split\n",
    "    xtrain,xtest,ytrain,ytest=train_test_split(Xnew,Y,test_size=0.2,random_state=31)"
   ]
  },
  {
   "cell_type": "code",
   "execution_count": 20,
   "id": "55d6ea8e",
   "metadata": {},
   "outputs": [
    {
     "name": "stdout",
     "output_type": "stream",
     "text": [
      "Adj Rsquared: 0.9337\n",
      "Dropped column: Exterior2nd_MetalSd\n",
      "Adj Rsquared: 0.9338\n",
      "Dropped column: Condition1_PosA\n",
      "Adj Rsquared: 0.9338\n",
      "Dropped column: Fence_GdWo\n",
      "Adj Rsquared: 0.9338\n",
      "Dropped column: SaleType_ConLD\n",
      "Adj Rsquared: 0.9338\n",
      "Dropped column: BsmtFinType2_BLQ\n",
      "Adj Rsquared: 0.9338\n",
      "Dropped column: LandContour_HLS\n",
      "Adj Rsquared: 0.9338\n",
      "Dropped column: Neighborhood_BrDale\n",
      "Adj Rsquared: 0.9338\n",
      "Dropped column: Neighborhood_BrkSide\n",
      "Adj Rsquared: 0.9338\n",
      "Dropped column: Neighborhood_Veenker\n",
      "Adj Rsquared: 0.9339\n",
      "Dropped column: SaleCondition_Abnorml\n"
     ]
    }
   ],
   "source": [
    "for i in range(0,10):\n",
    "    from statsmodels.api import OLS,add_constant\n",
    "    xconst = add_constant(xtrain)\n",
    "    ols = OLS(ytrain,xconst)\n",
    "    model = ols.fit()\n",
    "    print(\"Adj Rsquared:\",round(model.rsquared_adj,4))\n",
    "    col_with_high_pval = model.pvalues.sort_values().index[-1]\n",
    "    Xnew = Xnew.drop(labels=col_with_high_pval,axis=1)\n",
    "    print(\"Dropped column:\",col_with_high_pval)\n",
    "    from sklearn.model_selection import train_test_split\n",
    "    xtrain,xtest,ytrain,ytest=train_test_split(Xnew,Y,test_size=0.2,random_state=31)"
   ]
  },
  {
   "cell_type": "code",
   "execution_count": 21,
   "id": "a9ed3f4f",
   "metadata": {},
   "outputs": [
    {
     "name": "stdout",
     "output_type": "stream",
     "text": [
      "Adj Rsquared: 0.934\n",
      "Dropped column: MiscFeature_TenC\n",
      "Adj Rsquared: 0.934\n",
      "Dropped column: MiscFeature_Othr\n",
      "Adj Rsquared: 0.9341\n",
      "Dropped column: MSZoning_RH\n",
      "Adj Rsquared: 0.9341\n",
      "Dropped column: LotShape_IR2\n",
      "Adj Rsquared: 0.9341\n",
      "Dropped column: GarageType_BuiltIn\n",
      "Adj Rsquared: 0.9341\n",
      "Dropped column: ExterCond_Fa\n",
      "Adj Rsquared: 0.9341\n",
      "Dropped column: Heating_Grav\n",
      "Adj Rsquared: 0.9341\n",
      "Dropped column: Heating_GasA\n",
      "Adj Rsquared: 0.9342\n",
      "Dropped column: Exterior2nd_Other\n",
      "Adj Rsquared: 0.9342\n",
      "Dropped column: MSZoning_FV\n"
     ]
    }
   ],
   "source": [
    "for i in range(0,10):\n",
    "    from statsmodels.api import OLS,add_constant\n",
    "    xconst = add_constant(xtrain)\n",
    "    ols = OLS(ytrain,xconst)\n",
    "    model = ols.fit()\n",
    "    print(\"Adj Rsquared:\",round(model.rsquared_adj,4))\n",
    "    col_with_high_pval = model.pvalues.sort_values().index[-1]\n",
    "    Xnew = Xnew.drop(labels=col_with_high_pval,axis=1)\n",
    "    print(\"Dropped column:\",col_with_high_pval)\n",
    "    from sklearn.model_selection import train_test_split\n",
    "    xtrain,xtest,ytrain,ytest=train_test_split(Xnew,Y,test_size=0.2,random_state=31)"
   ]
  },
  {
   "cell_type": "code",
   "execution_count": 22,
   "id": "1bc2ddf0",
   "metadata": {},
   "outputs": [
    {
     "name": "stdout",
     "output_type": "stream",
     "text": [
      "Adj Rsquared: 0.9343\n",
      "Dropped column: Exterior1st_BrkComm\n",
      "Adj Rsquared: 0.9343\n",
      "Dropped column: SaleType_Con\n",
      "Adj Rsquared: 0.9344\n",
      "Dropped column: Condition2_RRAn\n",
      "Adj Rsquared: 0.9344\n",
      "Dropped column: Electrical_FuseP\n",
      "Adj Rsquared: 0.9344\n",
      "Dropped column: Electrical_SBrkr\n",
      "Adj Rsquared: 0.9345\n",
      "Dropped column: Electrical_FuseF\n",
      "Adj Rsquared: 0.9345\n",
      "Dropped column: Electrical_FuseA\n",
      "Adj Rsquared: 0.9346\n",
      "Dropped column: BsmtFinType2_Unf\n",
      "Adj Rsquared: 0.9347\n",
      "Dropped column: Foundation_CBlock\n",
      "Adj Rsquared: 0.9347\n",
      "Dropped column: Exterior1st_ImStucc\n"
     ]
    }
   ],
   "source": [
    "for i in range(0,10):\n",
    "    from statsmodels.api import OLS,add_constant\n",
    "    xconst = add_constant(xtrain)\n",
    "    ols = OLS(ytrain,xconst)\n",
    "    model = ols.fit()\n",
    "    print(\"Adj Rsquared:\",round(model.rsquared_adj,4))\n",
    "    col_with_high_pval = model.pvalues.sort_values().index[-1]\n",
    "    Xnew = Xnew.drop(labels=col_with_high_pval,axis=1)\n",
    "    print(\"Dropped column:\",col_with_high_pval)\n",
    "    from sklearn.model_selection import train_test_split\n",
    "    xtrain,xtest,ytrain,ytest=train_test_split(Xnew,Y,test_size=0.2,random_state=31)"
   ]
  },
  {
   "cell_type": "code",
   "execution_count": 23,
   "id": "c0366dd7",
   "metadata": {},
   "outputs": [
    {
     "name": "stdout",
     "output_type": "stream",
     "text": [
      "Adj Rsquared: 0.9347\n",
      "Dropped column: BldgType_2fmCon\n",
      "Adj Rsquared: 0.9347\n",
      "Dropped column: GarageType_Attchd\n",
      "Adj Rsquared: 0.9348\n",
      "Dropped column: Functional_Maj1\n",
      "Adj Rsquared: 0.9348\n",
      "Dropped column: SaleType_Oth\n",
      "Adj Rsquared: 0.9349\n",
      "Dropped column: HeatingQC_Po\n",
      "Adj Rsquared: 0.9349\n",
      "Dropped column: BsmtFinType1_GLQ\n",
      "Adj Rsquared: 0.9349\n",
      "Dropped column: Neighborhood_MeadowV\n",
      "Adj Rsquared: 0.9349\n",
      "Dropped column: PoolQC_Ex\n",
      "Adj Rsquared: 0.9349\n",
      "Dropped column: GarageFinish_No Garage\n",
      "Adj Rsquared: 0.9349\n",
      "Dropped column: GarageCond_No Garage\n"
     ]
    }
   ],
   "source": [
    "for i in range(0,10):\n",
    "    from statsmodels.api import OLS,add_constant\n",
    "    xconst = add_constant(xtrain)\n",
    "    ols = OLS(ytrain,xconst)\n",
    "    model = ols.fit()\n",
    "    print(\"Adj Rsquared:\",round(model.rsquared_adj,4))\n",
    "    col_with_high_pval = model.pvalues.sort_values().index[-1]\n",
    "    Xnew = Xnew.drop(labels=col_with_high_pval,axis=1)\n",
    "    print(\"Dropped column:\",col_with_high_pval)\n",
    "    from sklearn.model_selection import train_test_split\n",
    "    xtrain,xtest,ytrain,ytest=train_test_split(Xnew,Y,test_size=0.2,random_state=31)"
   ]
  },
  {
   "cell_type": "code",
   "execution_count": 24,
   "id": "1ca75da9",
   "metadata": {},
   "outputs": [
    {
     "name": "stdout",
     "output_type": "stream",
     "text": [
      "Adj Rsquared: 0.9349\n",
      "Dropped column: GarageQual_No Garage\n",
      "Adj Rsquared: 0.9349\n",
      "Dropped column: Exterior1st_CBlock\n",
      "Adj Rsquared: 0.9349\n",
      "Dropped column: GarageType_No Garage\n",
      "Adj Rsquared: 0.9349\n",
      "Dropped column: MSSubClass\n",
      "Adj Rsquared: 0.935\n",
      "Dropped column: ExterQual_Fa\n",
      "Adj Rsquared: 0.935\n",
      "Dropped column: Street_Pave\n",
      "Adj Rsquared: 0.935\n",
      "Dropped column: Exterior1st_WdShing\n",
      "Adj Rsquared: 0.9351\n",
      "Dropped column: Exterior2nd_Wd Sdng\n",
      "Adj Rsquared: 0.9351\n",
      "Dropped column: Exterior2nd_CBlock\n",
      "Adj Rsquared: 0.9351\n",
      "Dropped column: Exterior2nd_CmentBd\n"
     ]
    }
   ],
   "source": [
    "for i in range(0,10):\n",
    "    from statsmodels.api import OLS,add_constant\n",
    "    xconst = add_constant(xtrain)\n",
    "    ols = OLS(ytrain,xconst)\n",
    "    model = ols.fit()\n",
    "    print(\"Adj Rsquared:\",round(model.rsquared_adj,4))\n",
    "    col_with_high_pval = model.pvalues.sort_values().index[-1]\n",
    "    Xnew = Xnew.drop(labels=col_with_high_pval,axis=1)\n",
    "    print(\"Dropped column:\",col_with_high_pval)\n",
    "    from sklearn.model_selection import train_test_split\n",
    "    xtrain,xtest,ytrain,ytest=train_test_split(Xnew,Y,test_size=0.2,random_state=31)"
   ]
  },
  {
   "cell_type": "code",
   "execution_count": 25,
   "id": "c73f748f",
   "metadata": {},
   "outputs": [
    {
     "name": "stdout",
     "output_type": "stream",
     "text": [
      "Adj Rsquared: 0.9352\n",
      "Dropped column: Utilities_AllPub\n",
      "Adj Rsquared: 0.9352\n",
      "Dropped column: Foundation_BrkTil\n",
      "Adj Rsquared: 0.9353\n",
      "Dropped column: BsmtFinType2_Rec\n",
      "Adj Rsquared: 0.9353\n",
      "Dropped column: ExterCond_Po\n",
      "Adj Rsquared: 0.9354\n",
      "Dropped column: EnclosedPorch\n",
      "Adj Rsquared: 0.9355\n",
      "Dropped column: Fence_MnPrv\n",
      "Adj Rsquared: 0.9355\n",
      "Dropped column: LotConfig_Corner\n",
      "Adj Rsquared: 0.9355\n",
      "Dropped column: LotConfig_Inside\n",
      "Adj Rsquared: 0.9356\n",
      "Dropped column: HouseStyle_1.5Fin\n",
      "Adj Rsquared: 0.9356\n",
      "Dropped column: GarageYrBlt\n"
     ]
    }
   ],
   "source": [
    "for i in range(0,10):\n",
    "    from statsmodels.api import OLS,add_constant\n",
    "    xconst = add_constant(xtrain)\n",
    "    ols = OLS(ytrain,xconst)\n",
    "    model = ols.fit()\n",
    "    print(\"Adj Rsquared:\",round(model.rsquared_adj,4))\n",
    "    col_with_high_pval = model.pvalues.sort_values().index[-1]\n",
    "    Xnew = Xnew.drop(labels=col_with_high_pval,axis=1)\n",
    "    print(\"Dropped column:\",col_with_high_pval)\n",
    "    from sklearn.model_selection import train_test_split\n",
    "    xtrain,xtest,ytrain,ytest=train_test_split(Xnew,Y,test_size=0.2,random_state=31)"
   ]
  },
  {
   "cell_type": "code",
   "execution_count": 26,
   "id": "acb508a7",
   "metadata": {},
   "outputs": [
    {
     "name": "stdout",
     "output_type": "stream",
     "text": [
      "Adj Rsquared: 0.9356\n",
      "Dropped column: Neighborhood_Blmngtn\n",
      "Adj Rsquared: 0.9357\n",
      "Dropped column: BsmtFinType1_Unf\n",
      "Adj Rsquared: 0.9358\n",
      "Dropped column: GarageType_CarPort\n",
      "Adj Rsquared: 0.9358\n",
      "Dropped column: Functional_Maj2\n",
      "Adj Rsquared: 0.9359\n",
      "Dropped column: RoofStyle_Mansard\n",
      "Adj Rsquared: 0.9359\n",
      "Dropped column: HeatingQC_Ex\n",
      "Adj Rsquared: 0.9359\n",
      "Dropped column: HeatingQC_Fa\n",
      "Adj Rsquared: 0.936\n",
      "Dropped column: LandContour_Lvl\n",
      "Adj Rsquared: 0.9361\n",
      "Dropped column: LandContour_Bnk\n",
      "Adj Rsquared: 0.9361\n",
      "Dropped column: MSZoning_RM\n"
     ]
    }
   ],
   "source": [
    "for i in range(0,10):\n",
    "    from statsmodels.api import OLS,add_constant\n",
    "    xconst = add_constant(xtrain)\n",
    "    ols = OLS(ytrain,xconst)\n",
    "    model = ols.fit()\n",
    "    print(\"Adj Rsquared:\",round(model.rsquared_adj,4))\n",
    "    col_with_high_pval = model.pvalues.sort_values().index[-1]\n",
    "    Xnew = Xnew.drop(labels=col_with_high_pval,axis=1)\n",
    "    print(\"Dropped column:\",col_with_high_pval)\n",
    "    from sklearn.model_selection import train_test_split\n",
    "    xtrain,xtest,ytrain,ytest=train_test_split(Xnew,Y,test_size=0.2,random_state=31)"
   ]
  },
  {
   "cell_type": "code",
   "execution_count": 27,
   "id": "9b0c53a5",
   "metadata": {},
   "outputs": [
    {
     "name": "stdout",
     "output_type": "stream",
     "text": [
      "Adj Rsquared: 0.9362\n",
      "Dropped column: BsmtHalfBath\n",
      "Adj Rsquared: 0.9362\n",
      "Dropped column: BldgType_Duplex\n",
      "Adj Rsquared: 0.9363\n",
      "Dropped column: BldgType_TwnhsE\n",
      "Adj Rsquared: 0.9363\n",
      "Dropped column: ExterQual_Ex\n",
      "Adj Rsquared: 0.9364\n",
      "Dropped column: Condition1_RRNn\n",
      "Adj Rsquared: 0.9365\n",
      "Dropped column: Condition1_Artery\n",
      "Adj Rsquared: 0.9365\n",
      "Dropped column: BsmtQual_Ex\n",
      "Adj Rsquared: 0.9365\n",
      "Dropped column: Heating_Floor\n",
      "Adj Rsquared: 0.9366\n",
      "Dropped column: Condition2_Feedr\n",
      "Adj Rsquared: 0.9366\n",
      "Dropped column: Condition2_Norm\n"
     ]
    }
   ],
   "source": [
    "for i in range(0,10):\n",
    "    from statsmodels.api import OLS,add_constant\n",
    "    xconst = add_constant(xtrain)\n",
    "    ols = OLS(ytrain,xconst)\n",
    "    model = ols.fit()\n",
    "    print(\"Adj Rsquared:\",round(model.rsquared_adj,4))\n",
    "    col_with_high_pval = model.pvalues.sort_values().index[-1]\n",
    "    Xnew = Xnew.drop(labels=col_with_high_pval,axis=1)\n",
    "    print(\"Dropped column:\",col_with_high_pval)\n",
    "    from sklearn.model_selection import train_test_split\n",
    "    xtrain,xtest,ytrain,ytest=train_test_split(Xnew,Y,test_size=0.2,random_state=31)"
   ]
  },
  {
   "cell_type": "code",
   "execution_count": 28,
   "id": "9d66e414",
   "metadata": {},
   "outputs": [
    {
     "name": "stdout",
     "output_type": "stream",
     "text": [
      "Adj Rsquared: 0.9367\n",
      "Dropped column: PavedDrive_Y\n",
      "Adj Rsquared: 0.9367\n",
      "Dropped column: PavedDrive_N\n",
      "Adj Rsquared: 0.9367\n",
      "Dropped column: BsmtUnfSF\n",
      "Adj Rsquared: 0.9367\n",
      "Dropped column: Condition2_RRNn\n",
      "Adj Rsquared: 0.9368\n",
      "Dropped column: Foundation_Slab\n",
      "Adj Rsquared: 0.9368\n",
      "Dropped column: BsmtQual_No Basement\n",
      "Adj Rsquared: 0.9368\n",
      "Dropped column: BsmtFinType1_No Basement\n",
      "Adj Rsquared: 0.9368\n",
      "Dropped column: BsmtCond_No Basement\n",
      "Adj Rsquared: 0.9368\n",
      "Dropped column: BsmtExposure_Mn\n",
      "Adj Rsquared: 0.9368\n",
      "Dropped column: BsmtExposure_Av\n"
     ]
    }
   ],
   "source": [
    "for i in range(0,10):\n",
    "    from statsmodels.api import OLS,add_constant\n",
    "    xconst = add_constant(xtrain)\n",
    "    ols = OLS(ytrain,xconst)\n",
    "    model = ols.fit()\n",
    "    print(\"Adj Rsquared:\",round(model.rsquared_adj,4))\n",
    "    col_with_high_pval = model.pvalues.sort_values().index[-1]\n",
    "    Xnew = Xnew.drop(labels=col_with_high_pval,axis=1)\n",
    "    print(\"Dropped column:\",col_with_high_pval)\n",
    "    from sklearn.model_selection import train_test_split\n",
    "    xtrain,xtest,ytrain,ytest=train_test_split(Xnew,Y,test_size=0.2,random_state=31)"
   ]
  },
  {
   "cell_type": "code",
   "execution_count": 29,
   "id": "76171a11",
   "metadata": {},
   "outputs": [
    {
     "name": "stdout",
     "output_type": "stream",
     "text": [
      "Adj Rsquared: 0.9369\n",
      "Dropped column: Alley_Pave\n",
      "Adj Rsquared: 0.9369\n",
      "Dropped column: Alley_No alley access\n",
      "Adj Rsquared: 0.9369\n",
      "Dropped column: Alley_Grvl\n",
      "Adj Rsquared: 0.937\n",
      "Dropped column: CentralAir_N\n",
      "Adj Rsquared: 0.937\n",
      "Dropped column: CentralAir_Y\n"
     ]
    }
   ],
   "source": [
    "for i in range(0,5):\n",
    "    from statsmodels.api import OLS,add_constant\n",
    "    xconst = add_constant(xtrain)\n",
    "    ols = OLS(ytrain,xconst)\n",
    "    model = ols.fit()\n",
    "    print(\"Adj Rsquared:\",round(model.rsquared_adj,4))\n",
    "    col_with_high_pval = model.pvalues.sort_values().index[-1]\n",
    "    Xnew = Xnew.drop(labels=col_with_high_pval,axis=1)\n",
    "    print(\"Dropped column:\",col_with_high_pval)\n",
    "    from sklearn.model_selection import train_test_split\n",
    "    xtrain,xtest,ytrain,ytest=train_test_split(Xnew,Y,test_size=0.2,random_state=31)"
   ]
  },
  {
   "cell_type": "code",
   "execution_count": 30,
   "id": "caac7c03",
   "metadata": {},
   "outputs": [
    {
     "name": "stdout",
     "output_type": "stream",
     "text": [
      "Adj Rsquared: 0.9371\n",
      "Dropped column: LandSlope_Gtl\n"
     ]
    }
   ],
   "source": [
    "\n",
    "    from statsmodels.api import OLS,add_constant\n",
    "    xconst = add_constant(xtrain)\n",
    "    ols = OLS(ytrain,xconst)\n",
    "    model = ols.fit()\n",
    "    print(\"Adj Rsquared:\",round(model.rsquared_adj,4))\n",
    "    col_with_high_pval = model.pvalues.sort_values().index[-1]\n",
    "    Xnew = Xnew.drop(labels=col_with_high_pval,axis=1)\n",
    "    print(\"Dropped column:\",col_with_high_pval)\n",
    "    from sklearn.model_selection import train_test_split\n",
    "    xtrain,xtest,ytrain,ytest=train_test_split(Xnew,Y,test_size=0.2,random_state=31)"
   ]
  },
  {
   "cell_type": "code",
   "execution_count": 33,
   "id": "79e9edc6",
   "metadata": {},
   "outputs": [
    {
     "name": "stdout",
     "output_type": "stream",
     "text": [
      "Adj Rsquared: 0.9371\n",
      "Dropped column: KitchenQual_Fa\n"
     ]
    }
   ],
   "source": [
    "\n",
    "    from statsmodels.api import OLS,add_constant\n",
    "    xconst = add_constant(xtrain)\n",
    "    ols = OLS(ytrain,xconst)\n",
    "    model = ols.fit()\n",
    "    print(\"Adj Rsquared:\",round(model.rsquared_adj,4))\n",
    "    col_with_high_pval = model.pvalues.sort_values().index[-2]\n",
    "    Xnew = Xnew.drop(labels=col_with_high_pval,axis=1)\n",
    "    print(\"Dropped column:\",col_with_high_pval)\n",
    "    from sklearn.model_selection import train_test_split\n",
    "    xtrain,xtest,ytrain,ytest=train_test_split(Xnew,Y,test_size=0.2,random_state=31)"
   ]
  },
  {
   "cell_type": "code",
   "execution_count": 35,
   "id": "c7e65ef0",
   "metadata": {},
   "outputs": [
    {
     "name": "stdout",
     "output_type": "stream",
     "text": [
      "Adj Rsquared: 0.9371\n",
      "Dropped column: MiscFeature_Gar2\n"
     ]
    }
   ],
   "source": [
    "\n",
    "    from statsmodels.api import OLS,add_constant\n",
    "    xconst = add_constant(xtrain)\n",
    "    ols = OLS(ytrain,xconst)\n",
    "    model = ols.fit()\n",
    "    print(\"Adj Rsquared:\",round(model.rsquared_adj,4))\n",
    "    col_with_high_pval = model.pvalues.sort_values().index[-2]\n",
    "    Xnew = Xnew.drop(labels=col_with_high_pval,axis=1)\n",
    "    print(\"Dropped column:\",col_with_high_pval)\n",
    "    from sklearn.model_selection import train_test_split\n",
    "    xtrain,xtest,ytrain,ytest=train_test_split(Xnew,Y,test_size=0.2,random_state=31)"
   ]
  },
  {
   "cell_type": "code",
   "execution_count": 36,
   "id": "a0d042ba",
   "metadata": {},
   "outputs": [
    {
     "name": "stdout",
     "output_type": "stream",
     "text": [
      "Adj Rsquared: 0.9371\n",
      "Dropped column: BsmtExposure_No Basement\n"
     ]
    }
   ],
   "source": [
    "\n",
    "    from statsmodels.api import OLS,add_constant\n",
    "    xconst = add_constant(xtrain)\n",
    "    ols = OLS(ytrain,xconst)\n",
    "    model = ols.fit()\n",
    "    print(\"Adj Rsquared:\",round(model.rsquared_adj,4))\n",
    "    col_with_high_pval = model.pvalues.sort_values().index[-2]\n",
    "    Xnew = Xnew.drop(labels=col_with_high_pval,axis=1)\n",
    "    print(\"Dropped column:\",col_with_high_pval)\n",
    "    from sklearn.model_selection import train_test_split\n",
    "    xtrain,xtest,ytrain,ytest=train_test_split(Xnew,Y,test_size=0.2,random_state=31)"
   ]
  },
  {
   "cell_type": "code",
   "execution_count": 37,
   "id": "838d64dd",
   "metadata": {},
   "outputs": [
    {
     "name": "stdout",
     "output_type": "stream",
     "text": [
      "Adj Rsquared: 0.9371\n",
      "Dropped column: SaleCondition_Alloca\n"
     ]
    }
   ],
   "source": [
    "    from statsmodels.api import OLS,add_constant\n",
    "    xconst = add_constant(xtrain)\n",
    "    ols = OLS(ytrain,xconst)\n",
    "    model = ols.fit()\n",
    "    print(\"Adj Rsquared:\",round(model.rsquared_adj,4))\n",
    "    col_with_high_pval = model.pvalues.sort_values().index[-2]\n",
    "    Xnew = Xnew.drop(labels=col_with_high_pval,axis=1)\n",
    "    print(\"Dropped column:\",col_with_high_pval)\n",
    "    from sklearn.model_selection import train_test_split\n",
    "    xtrain,xtest,ytrain,ytest=train_test_split(Xnew,Y,test_size=0.2,random_state=31)"
   ]
  },
  {
   "cell_type": "code",
   "execution_count": 39,
   "id": "e494933c",
   "metadata": {},
   "outputs": [
    {
     "name": "stdout",
     "output_type": "stream",
     "text": [
      "Adj Rsquared: 0.9372\n",
      "Dropped column: Condition2_Artery\n"
     ]
    }
   ],
   "source": [
    "from statsmodels.api import OLS,add_constant\n",
    "xconst = add_constant(xtrain)\n",
    "ols = OLS(ytrain,xconst)\n",
    "model = ols.fit()\n",
    "print(\"Adj Rsquared:\",round(model.rsquared_adj,4))\n",
    "col_with_high_pval = model.pvalues.sort_values().index[-1]\n",
    "Xnew = Xnew.drop(labels=col_with_high_pval,axis=1)\n",
    "print(\"Dropped column:\",col_with_high_pval)\n",
    "from sklearn.model_selection import train_test_split\n",
    "xtrain,xtest,ytrain,ytest=train_test_split(Xnew,Y,test_size=0.2,random_state=31)"
   ]
  },
  {
   "cell_type": "code",
   "execution_count": 40,
   "id": "5759ed75",
   "metadata": {},
   "outputs": [
    {
     "name": "stdout",
     "output_type": "stream",
     "text": [
      "Adj Rsquared: 0.9372\n",
      "Dropped column: MiscFeature_Shed\n"
     ]
    }
   ],
   "source": [
    "from statsmodels.api import OLS,add_constant\n",
    "xconst = add_constant(xtrain)\n",
    "ols = OLS(ytrain,xconst)\n",
    "model = ols.fit()\n",
    "print(\"Adj Rsquared:\",round(model.rsquared_adj,4))\n",
    "col_with_high_pval = model.pvalues.sort_values().index[-2]\n",
    "Xnew = Xnew.drop(labels=col_with_high_pval,axis=1)\n",
    "print(\"Dropped column:\",col_with_high_pval)\n",
    "from sklearn.model_selection import train_test_split\n",
    "xtrain,xtest,ytrain,ytest=train_test_split(Xnew,Y,test_size=0.2,random_state=31)"
   ]
  },
  {
   "cell_type": "code",
   "execution_count": 42,
   "id": "310edd16",
   "metadata": {},
   "outputs": [
    {
     "name": "stdout",
     "output_type": "stream",
     "text": [
      "Adj Rsquared: 0.9373\n",
      "Dropped column: MiscFeature_None\n"
     ]
    }
   ],
   "source": [
    "from statsmodels.api import OLS,add_constant\n",
    "xconst = add_constant(xtrain)\n",
    "ols = OLS(ytrain,xconst)\n",
    "model = ols.fit()\n",
    "print(\"Adj Rsquared:\",round(model.rsquared_adj,4))\n",
    "col_with_high_pval = model.pvalues.sort_values().index[-1]\n",
    "Xnew = Xnew.drop(labels=col_with_high_pval,axis=1)\n",
    "print(\"Dropped column:\",col_with_high_pval)\n",
    "from sklearn.model_selection import train_test_split\n",
    "xtrain,xtest,ytrain,ytest=train_test_split(Xnew,Y,test_size=0.2,random_state=31)"
   ]
  },
  {
   "cell_type": "code",
   "execution_count": 43,
   "id": "e8566443",
   "metadata": {},
   "outputs": [
    {
     "name": "stdout",
     "output_type": "stream",
     "text": [
      "Adj Rsquared: 0.9373\n",
      "Dropped column: BsmtFinType1_BLQ\n"
     ]
    }
   ],
   "source": [
    "from statsmodels.api import OLS,add_constant\n",
    "xconst = add_constant(xtrain)\n",
    "ols = OLS(ytrain,xconst)\n",
    "model = ols.fit()\n",
    "print(\"Adj Rsquared:\",round(model.rsquared_adj,4))\n",
    "col_with_high_pval = model.pvalues.sort_values().index[-2]\n",
    "Xnew = Xnew.drop(labels=col_with_high_pval,axis=1)\n",
    "print(\"Dropped column:\",col_with_high_pval)\n",
    "from sklearn.model_selection import train_test_split\n",
    "xtrain,xtest,ytrain,ytest=train_test_split(Xnew,Y,test_size=0.2,random_state=31)"
   ]
  },
  {
   "cell_type": "code",
   "execution_count": 44,
   "id": "c5bcc5d9",
   "metadata": {},
   "outputs": [
    {
     "name": "stdout",
     "output_type": "stream",
     "text": [
      "Adj Rsquared: 0.9374\n",
      "Dropped column: SaleType_CWD\n"
     ]
    }
   ],
   "source": [
    "from statsmodels.api import OLS,add_constant\n",
    "xconst = add_constant(xtrain)\n",
    "ols = OLS(ytrain,xconst)\n",
    "model = ols.fit()\n",
    "print(\"Adj Rsquared:\",round(model.rsquared_adj,4))\n",
    "col_with_high_pval = model.pvalues.sort_values().index[-2]\n",
    "Xnew = Xnew.drop(labels=col_with_high_pval,axis=1)\n",
    "print(\"Dropped column:\",col_with_high_pval)\n",
    "from sklearn.model_selection import train_test_split\n",
    "xtrain,xtest,ytrain,ytest=train_test_split(Xnew,Y,test_size=0.2,random_state=31)"
   ]
  },
  {
   "cell_type": "code",
   "execution_count": 45,
   "id": "cd7f8166",
   "metadata": {},
   "outputs": [
    {
     "name": "stdout",
     "output_type": "stream",
     "text": [
      "Adj Rsquared: 0.9374\n",
      "Dropped column: YrSold\n"
     ]
    }
   ],
   "source": [
    "from statsmodels.api import OLS,add_constant\n",
    "xconst = add_constant(xtrain)\n",
    "ols = OLS(ytrain,xconst)\n",
    "model = ols.fit()\n",
    "print(\"Adj Rsquared:\",round(model.rsquared_adj,4))\n",
    "col_with_high_pval = model.pvalues.sort_values().index[-2]\n",
    "Xnew = Xnew.drop(labels=col_with_high_pval,axis=1)\n",
    "print(\"Dropped column:\",col_with_high_pval)\n",
    "from sklearn.model_selection import train_test_split\n",
    "xtrain,xtest,ytrain,ytest=train_test_split(Xnew,Y,test_size=0.2,random_state=31)"
   ]
  },
  {
   "cell_type": "code",
   "execution_count": 46,
   "id": "b5e6df63",
   "metadata": {},
   "outputs": [
    {
     "name": "stdout",
     "output_type": "stream",
     "text": [
      "Adj Rsquared: 0.9374\n",
      "Dropped column: Exterior1st_AsbShng\n"
     ]
    }
   ],
   "source": [
    "from statsmodels.api import OLS,add_constant\n",
    "xconst = add_constant(xtrain)\n",
    "ols = OLS(ytrain,xconst)\n",
    "model = ols.fit()\n",
    "print(\"Adj Rsquared:\",round(model.rsquared_adj,4))\n",
    "col_with_high_pval = model.pvalues.sort_values().index[-2]\n",
    "Xnew = Xnew.drop(labels=col_with_high_pval,axis=1)\n",
    "print(\"Dropped column:\",col_with_high_pval)\n",
    "from sklearn.model_selection import train_test_split\n",
    "xtrain,xtest,ytrain,ytest=train_test_split(Xnew,Y,test_size=0.2,random_state=31)"
   ]
  },
  {
   "cell_type": "code",
   "execution_count": 47,
   "id": "626fde2d",
   "metadata": {},
   "outputs": [
    {
     "name": "stdout",
     "output_type": "stream",
     "text": [
      "Adj Rsquared: 0.9375\n",
      "Dropped column: Exterior2nd_BrkFace\n"
     ]
    }
   ],
   "source": [
    "from statsmodels.api import OLS,add_constant\n",
    "xconst = add_constant(xtrain)\n",
    "ols = OLS(ytrain,xconst)\n",
    "model = ols.fit()\n",
    "print(\"Adj Rsquared:\",round(model.rsquared_adj,4))\n",
    "col_with_high_pval = model.pvalues.sort_values().index[-2]\n",
    "Xnew = Xnew.drop(labels=col_with_high_pval,axis=1)\n",
    "print(\"Dropped column:\",col_with_high_pval)\n",
    "from sklearn.model_selection import train_test_split\n",
    "xtrain,xtest,ytrain,ytest=train_test_split(Xnew,Y,test_size=0.2,random_state=31)"
   ]
  },
  {
   "cell_type": "code",
   "execution_count": 49,
   "id": "0f6fdc9d",
   "metadata": {},
   "outputs": [
    {
     "name": "stdout",
     "output_type": "stream",
     "text": [
      "Adj Rsquared: 0.9375\n",
      "Dropped column: Exterior2nd_AsbShng\n"
     ]
    }
   ],
   "source": [
    "from statsmodels.api import OLS,add_constant\n",
    "xconst = add_constant(xtrain)\n",
    "ols = OLS(ytrain,xconst)\n",
    "model = ols.fit()\n",
    "print(\"Adj Rsquared:\",round(model.rsquared_adj,4))\n",
    "col_with_high_pval = model.pvalues.sort_values().index[-2]\n",
    "Xnew = Xnew.drop(labels=col_with_high_pval,axis=1)\n",
    "print(\"Dropped column:\",col_with_high_pval)\n",
    "from sklearn.model_selection import train_test_split\n",
    "xtrain,xtest,ytrain,ytest=train_test_split(Xnew,Y,test_size=0.2,random_state=31)"
   ]
  },
  {
   "cell_type": "code",
   "execution_count": 50,
   "id": "6bff5f14",
   "metadata": {},
   "outputs": [
    {
     "name": "stdout",
     "output_type": "stream",
     "text": [
      "Adj Rsquared: 0.9376\n",
      "Dropped column: Exterior2nd_AsphShn\n"
     ]
    }
   ],
   "source": [
    "from statsmodels.api import OLS,add_constant\n",
    "xconst = add_constant(xtrain)\n",
    "ols = OLS(ytrain,xconst)\n",
    "model = ols.fit()\n",
    "print(\"Adj Rsquared:\",round(model.rsquared_adj,4))\n",
    "col_with_high_pval = model.pvalues.sort_values().index[-2]\n",
    "Xnew = Xnew.drop(labels=col_with_high_pval,axis=1)\n",
    "print(\"Dropped column:\",col_with_high_pval)\n",
    "from sklearn.model_selection import train_test_split\n",
    "xtrain,xtest,ytrain,ytest=train_test_split(Xnew,Y,test_size=0.2,random_state=31)"
   ]
  },
  {
   "cell_type": "code",
   "execution_count": 51,
   "id": "628377e4",
   "metadata": {},
   "outputs": [
    {
     "name": "stdout",
     "output_type": "stream",
     "text": [
      "Adj Rsquared: 0.9376\n",
      "Dropped column: RoofStyle_Gambrel\n"
     ]
    }
   ],
   "source": [
    "from statsmodels.api import OLS,add_constant\n",
    "xconst = add_constant(xtrain)\n",
    "ols = OLS(ytrain,xconst)\n",
    "model = ols.fit()\n",
    "print(\"Adj Rsquared:\",round(model.rsquared_adj,4))\n",
    "col_with_high_pval = model.pvalues.sort_values().index[-2]\n",
    "Xnew = Xnew.drop(labels=col_with_high_pval,axis=1)\n",
    "print(\"Dropped column:\",col_with_high_pval)\n",
    "from sklearn.model_selection import train_test_split\n",
    "xtrain,xtest,ytrain,ytest=train_test_split(Xnew,Y,test_size=0.2,random_state=31)"
   ]
  },
  {
   "cell_type": "code",
   "execution_count": 52,
   "id": "b4b307ce",
   "metadata": {},
   "outputs": [
    {
     "name": "stdout",
     "output_type": "stream",
     "text": [
      "Adj Rsquared: 0.9376\n",
      "Dropped column: LandSlope_Mod\n"
     ]
    }
   ],
   "source": [
    "from statsmodels.api import OLS,add_constant\n",
    "xconst = add_constant(xtrain)\n",
    "ols = OLS(ytrain,xconst)\n",
    "model = ols.fit()\n",
    "print(\"Adj Rsquared:\",round(model.rsquared_adj,4))\n",
    "col_with_high_pval = model.pvalues.sort_values().index[-2]\n",
    "Xnew = Xnew.drop(labels=col_with_high_pval,axis=1)\n",
    "print(\"Dropped column:\",col_with_high_pval)\n",
    "from sklearn.model_selection import train_test_split\n",
    "xtrain,xtest,ytrain,ytest=train_test_split(Xnew,Y,test_size=0.2,random_state=31)"
   ]
  },
  {
   "cell_type": "code",
   "execution_count": 53,
   "id": "37b9ccb6",
   "metadata": {},
   "outputs": [
    {
     "name": "stdout",
     "output_type": "stream",
     "text": [
      "Adj Rsquared: 0.9377\n",
      "Dropped column: Neighborhood_SawyerW\n"
     ]
    }
   ],
   "source": [
    "from statsmodels.api import OLS,add_constant\n",
    "xconst = add_constant(xtrain)\n",
    "ols = OLS(ytrain,xconst)\n",
    "model = ols.fit()\n",
    "print(\"Adj Rsquared:\",round(model.rsquared_adj,4))\n",
    "col_with_high_pval = model.pvalues.sort_values().index[-2]\n",
    "Xnew = Xnew.drop(labels=col_with_high_pval,axis=1)\n",
    "print(\"Dropped column:\",col_with_high_pval)\n",
    "from sklearn.model_selection import train_test_split\n",
    "xtrain,xtest,ytrain,ytest=train_test_split(Xnew,Y,test_size=0.2,random_state=31)"
   ]
  },
  {
   "cell_type": "code",
   "execution_count": 54,
   "id": "5e0f8b21",
   "metadata": {},
   "outputs": [
    {
     "name": "stdout",
     "output_type": "stream",
     "text": [
      "Adj Rsquared: 0.9377\n",
      "Dropped column: Exterior2nd_VinylSd\n"
     ]
    }
   ],
   "source": [
    "from statsmodels.api import OLS,add_constant\n",
    "xconst = add_constant(xtrain)\n",
    "ols = OLS(ytrain,xconst)\n",
    "model = ols.fit()\n",
    "print(\"Adj Rsquared:\",round(model.rsquared_adj,4))\n",
    "col_with_high_pval = model.pvalues.sort_values().index[-2]\n",
    "Xnew = Xnew.drop(labels=col_with_high_pval,axis=1)\n",
    "print(\"Dropped column:\",col_with_high_pval)\n",
    "from sklearn.model_selection import train_test_split\n",
    "xtrain,xtest,ytrain,ytest=train_test_split(Xnew,Y,test_size=0.2,random_state=31)"
   ]
  },
  {
   "cell_type": "code",
   "execution_count": 56,
   "id": "d98faa65",
   "metadata": {},
   "outputs": [
    {
     "name": "stdout",
     "output_type": "stream",
     "text": [
      "Adj Rsquared: 0.9377\n",
      "Dropped column: Exterior1st_VinylSd\n"
     ]
    }
   ],
   "source": [
    "from statsmodels.api import OLS,add_constant\n",
    "xconst = add_constant(xtrain)\n",
    "ols = OLS(ytrain,xconst)\n",
    "model = ols.fit()\n",
    "print(\"Adj Rsquared:\",round(model.rsquared_adj,4))\n",
    "col_with_high_pval = model.pvalues.sort_values().index[-1]\n",
    "Xnew = Xnew.drop(labels=col_with_high_pval,axis=1)\n",
    "print(\"Dropped column:\",col_with_high_pval)\n",
    "from sklearn.model_selection import train_test_split\n",
    "xtrain,xtest,ytrain,ytest=train_test_split(Xnew,Y,test_size=0.2,random_state=31)"
   ]
  },
  {
   "cell_type": "code",
   "execution_count": 57,
   "id": "600d8611",
   "metadata": {},
   "outputs": [
    {
     "name": "stdout",
     "output_type": "stream",
     "text": [
      "Adj Rsquared: 0.9378\n",
      "Dropped column: Heating_GasW\n"
     ]
    }
   ],
   "source": [
    "from statsmodels.api import OLS,add_constant\n",
    "xconst = add_constant(xtrain)\n",
    "ols = OLS(ytrain,xconst)\n",
    "model = ols.fit()\n",
    "print(\"Adj Rsquared:\",round(model.rsquared_adj,4))\n",
    "col_with_high_pval = model.pvalues.sort_values().index[-2]\n",
    "Xnew = Xnew.drop(labels=col_with_high_pval,axis=1)\n",
    "print(\"Dropped column:\",col_with_high_pval)\n",
    "from sklearn.model_selection import train_test_split\n",
    "xtrain,xtest,ytrain,ytest=train_test_split(Xnew,Y,test_size=0.2,random_state=31)"
   ]
  },
  {
   "cell_type": "code",
   "execution_count": 58,
   "id": "8fa5b497",
   "metadata": {},
   "outputs": [
    {
     "name": "stdout",
     "output_type": "stream",
     "text": [
      "Adj Rsquared: 0.9378\n",
      "Dropped column: Exterior2nd_Stucco\n"
     ]
    }
   ],
   "source": [
    "from statsmodels.api import OLS,add_constant\n",
    "xconst = add_constant(xtrain)\n",
    "ols = OLS(ytrain,xconst)\n",
    "model = ols.fit()\n",
    "print(\"Adj Rsquared:\",round(model.rsquared_adj,4))\n",
    "col_with_high_pval = model.pvalues.sort_values().index[-2]\n",
    "Xnew = Xnew.drop(labels=col_with_high_pval,axis=1)\n",
    "print(\"Dropped column:\",col_with_high_pval)\n",
    "from sklearn.model_selection import train_test_split\n",
    "xtrain,xtest,ytrain,ytest=train_test_split(Xnew,Y,test_size=0.2,random_state=31)"
   ]
  },
  {
   "cell_type": "code",
   "execution_count": 59,
   "id": "043f38ea",
   "metadata": {},
   "outputs": [
    {
     "name": "stdout",
     "output_type": "stream",
     "text": [
      "Adj Rsquared: 0.9378\n",
      "Dropped column: MasVnrType_None\n"
     ]
    }
   ],
   "source": [
    "from statsmodels.api import OLS,add_constant\n",
    "xconst = add_constant(xtrain)\n",
    "ols = OLS(ytrain,xconst)\n",
    "model = ols.fit()\n",
    "print(\"Adj Rsquared:\",round(model.rsquared_adj,4))\n",
    "col_with_high_pval = model.pvalues.sort_values().index[-2]\n",
    "Xnew = Xnew.drop(labels=col_with_high_pval,axis=1)\n",
    "print(\"Dropped column:\",col_with_high_pval)\n",
    "from sklearn.model_selection import train_test_split\n",
    "xtrain,xtest,ytrain,ytest=train_test_split(Xnew,Y,test_size=0.2,random_state=31)"
   ]
  },
  {
   "cell_type": "code",
   "execution_count": 60,
   "id": "e7d905f3",
   "metadata": {},
   "outputs": [
    {
     "name": "stdout",
     "output_type": "stream",
     "text": [
      "Adj Rsquared: 0.9379\n",
      "Dropped column: GarageArea\n"
     ]
    }
   ],
   "source": [
    "from statsmodels.api import OLS,add_constant\n",
    "xconst = add_constant(xtrain)\n",
    "ols = OLS(ytrain,xconst)\n",
    "model = ols.fit()\n",
    "print(\"Adj Rsquared:\",round(model.rsquared_adj,4))\n",
    "col_with_high_pval = model.pvalues.sort_values().index[-2]\n",
    "Xnew = Xnew.drop(labels=col_with_high_pval,axis=1)\n",
    "print(\"Dropped column:\",col_with_high_pval)\n",
    "from sklearn.model_selection import train_test_split\n",
    "xtrain,xtest,ytrain,ytest=train_test_split(Xnew,Y,test_size=0.2,random_state=31)"
   ]
  },
  {
   "cell_type": "code",
   "execution_count": 61,
   "id": "6e2d95d1",
   "metadata": {},
   "outputs": [
    {
     "name": "stdout",
     "output_type": "stream",
     "text": [
      "Adj Rsquared: 0.9379\n",
      "Dropped column: Neighborhood_Blueste\n"
     ]
    }
   ],
   "source": [
    "from statsmodels.api import OLS,add_constant\n",
    "xconst = add_constant(xtrain)\n",
    "ols = OLS(ytrain,xconst)\n",
    "model = ols.fit()\n",
    "print(\"Adj Rsquared:\",round(model.rsquared_adj,4))\n",
    "col_with_high_pval = model.pvalues.sort_values().index[-2]\n",
    "Xnew = Xnew.drop(labels=col_with_high_pval,axis=1)\n",
    "print(\"Dropped column:\",col_with_high_pval)\n",
    "from sklearn.model_selection import train_test_split\n",
    "xtrain,xtest,ytrain,ytest=train_test_split(Xnew,Y,test_size=0.2,random_state=31)"
   ]
  },
  {
   "cell_type": "code",
   "execution_count": 62,
   "id": "874b16b6",
   "metadata": {},
   "outputs": [
    {
     "name": "stdout",
     "output_type": "stream",
     "text": [
      "Adj Rsquared: 0.9379\n",
      "Dropped column: LowQualFinSF\n"
     ]
    }
   ],
   "source": [
    "from statsmodels.api import OLS,add_constant\n",
    "xconst = add_constant(xtrain)\n",
    "ols = OLS(ytrain,xconst)\n",
    "model = ols.fit()\n",
    "print(\"Adj Rsquared:\",round(model.rsquared_adj,4))\n",
    "col_with_high_pval = model.pvalues.sort_values().index[-2]\n",
    "Xnew = Xnew.drop(labels=col_with_high_pval,axis=1)\n",
    "print(\"Dropped column:\",col_with_high_pval)\n",
    "from sklearn.model_selection import train_test_split\n",
    "xtrain,xtest,ytrain,ytest=train_test_split(Xnew,Y,test_size=0.2,random_state=31)"
   ]
  },
  {
   "cell_type": "code",
   "execution_count": 63,
   "id": "bfb442e2",
   "metadata": {},
   "outputs": [
    {
     "name": "stdout",
     "output_type": "stream",
     "text": [
      "Adj Rsquared: 0.9379\n",
      "Dropped column: LotConfig_FR3\n"
     ]
    }
   ],
   "source": [
    "from statsmodels.api import OLS,add_constant\n",
    "xconst = add_constant(xtrain)\n",
    "ols = OLS(ytrain,xconst)\n",
    "model = ols.fit()\n",
    "print(\"Adj Rsquared:\",round(model.rsquared_adj,4))\n",
    "col_with_high_pval = model.pvalues.sort_values().index[-2]\n",
    "Xnew = Xnew.drop(labels=col_with_high_pval,axis=1)\n",
    "print(\"Dropped column:\",col_with_high_pval)\n",
    "from sklearn.model_selection import train_test_split\n",
    "xtrain,xtest,ytrain,ytest=train_test_split(Xnew,Y,test_size=0.2,random_state=31)"
   ]
  },
  {
   "cell_type": "code",
   "execution_count": 64,
   "id": "cef9ddaa",
   "metadata": {},
   "outputs": [
    {
     "name": "stdout",
     "output_type": "stream",
     "text": [
      "Adj Rsquared: 0.9379\n",
      "Dropped column: Functional_Min1\n"
     ]
    }
   ],
   "source": [
    "from statsmodels.api import OLS,add_constant\n",
    "xconst = add_constant(xtrain)\n",
    "ols = OLS(ytrain,xconst)\n",
    "model = ols.fit()\n",
    "print(\"Adj Rsquared:\",round(model.rsquared_adj,4))\n",
    "col_with_high_pval = model.pvalues.sort_values().index[-2]\n",
    "Xnew = Xnew.drop(labels=col_with_high_pval,axis=1)\n",
    "print(\"Dropped column:\",col_with_high_pval)\n",
    "from sklearn.model_selection import train_test_split\n",
    "xtrain,xtest,ytrain,ytest=train_test_split(Xnew,Y,test_size=0.2,random_state=31)"
   ]
  },
  {
   "cell_type": "code",
   "execution_count": 65,
   "id": "11bced03",
   "metadata": {},
   "outputs": [
    {
     "name": "stdout",
     "output_type": "stream",
     "text": [
      "Adj Rsquared: 0.9379\n",
      "Dropped column: RoofStyle_Flat\n"
     ]
    }
   ],
   "source": [
    "from statsmodels.api import OLS,add_constant\n",
    "xconst = add_constant(xtrain)\n",
    "ols = OLS(ytrain,xconst)\n",
    "model = ols.fit()\n",
    "print(\"Adj Rsquared:\",round(model.rsquared_adj,4))\n",
    "col_with_high_pval = model.pvalues.sort_values().index[-2]\n",
    "Xnew = Xnew.drop(labels=col_with_high_pval,axis=1)\n",
    "print(\"Dropped column:\",col_with_high_pval)\n",
    "from sklearn.model_selection import train_test_split\n",
    "xtrain,xtest,ytrain,ytest=train_test_split(Xnew,Y,test_size=0.2,random_state=31)"
   ]
  },
  {
   "cell_type": "code",
   "execution_count": 66,
   "id": "692a462c",
   "metadata": {},
   "outputs": [
    {
     "name": "stdout",
     "output_type": "stream",
     "text": [
      "Adj Rsquared: 0.938\n",
      "Dropped column: SaleType_ConLI\n"
     ]
    }
   ],
   "source": [
    "from statsmodels.api import OLS,add_constant\n",
    "xconst = add_constant(xtrain)\n",
    "ols = OLS(ytrain,xconst)\n",
    "model = ols.fit()\n",
    "print(\"Adj Rsquared:\",round(model.rsquared_adj,4))\n",
    "col_with_high_pval = model.pvalues.sort_values().index[-2]\n",
    "Xnew = Xnew.drop(labels=col_with_high_pval,axis=1)\n",
    "print(\"Dropped column:\",col_with_high_pval)\n",
    "from sklearn.model_selection import train_test_split\n",
    "xtrain,xtest,ytrain,ytest=train_test_split(Xnew,Y,test_size=0.2,random_state=31)"
   ]
  },
  {
   "cell_type": "code",
   "execution_count": 67,
   "id": "b63cb4dd",
   "metadata": {},
   "outputs": [
    {
     "name": "stdout",
     "output_type": "stream",
     "text": [
      "Adj Rsquared: 0.938\n",
      "Dropped column: Electrical_Mix\n"
     ]
    }
   ],
   "source": [
    "from statsmodels.api import OLS,add_constant\n",
    "xconst = add_constant(xtrain)\n",
    "ols = OLS(ytrain,xconst)\n",
    "model = ols.fit()\n",
    "print(\"Adj Rsquared:\",round(model.rsquared_adj,4))\n",
    "col_with_high_pval = model.pvalues.sort_values().index[-2]\n",
    "Xnew = Xnew.drop(labels=col_with_high_pval,axis=1)\n",
    "print(\"Dropped column:\",col_with_high_pval)\n",
    "from sklearn.model_selection import train_test_split\n",
    "xtrain,xtest,ytrain,ytest=train_test_split(Xnew,Y,test_size=0.2,random_state=31)"
   ]
  },
  {
   "cell_type": "code",
   "execution_count": 68,
   "id": "34a0025b",
   "metadata": {},
   "outputs": [
    {
     "name": "stdout",
     "output_type": "stream",
     "text": [
      "Adj Rsquared: 0.938\n",
      "Dropped column: BsmtCond_Po\n"
     ]
    }
   ],
   "source": [
    "from statsmodels.api import OLS,add_constant\n",
    "xconst = add_constant(xtrain)\n",
    "ols = OLS(ytrain,xconst)\n",
    "model = ols.fit()\n",
    "print(\"Adj Rsquared:\",round(model.rsquared_adj,4))\n",
    "col_with_high_pval = model.pvalues.sort_values().index[-2]\n",
    "Xnew = Xnew.drop(labels=col_with_high_pval,axis=1)\n",
    "print(\"Dropped column:\",col_with_high_pval)\n",
    "from sklearn.model_selection import train_test_split\n",
    "xtrain,xtest,ytrain,ytest=train_test_split(Xnew,Y,test_size=0.2,random_state=31)"
   ]
  },
  {
   "cell_type": "code",
   "execution_count": 69,
   "id": "305882aa",
   "metadata": {},
   "outputs": [
    {
     "name": "stdout",
     "output_type": "stream",
     "text": [
      "Adj Rsquared: 0.938\n",
      "Dropped column: Condition1_RRNe\n"
     ]
    }
   ],
   "source": [
    "from statsmodels.api import OLS,add_constant\n",
    "xconst = add_constant(xtrain)\n",
    "ols = OLS(ytrain,xconst)\n",
    "model = ols.fit()\n",
    "print(\"Adj Rsquared:\",round(model.rsquared_adj,4))\n",
    "col_with_high_pval = model.pvalues.sort_values().index[-2]\n",
    "Xnew = Xnew.drop(labels=col_with_high_pval,axis=1)\n",
    "print(\"Dropped column:\",col_with_high_pval)\n",
    "from sklearn.model_selection import train_test_split\n",
    "xtrain,xtest,ytrain,ytest=train_test_split(Xnew,Y,test_size=0.2,random_state=31)"
   ]
  },
  {
   "cell_type": "code",
   "execution_count": 70,
   "id": "0da18776",
   "metadata": {},
   "outputs": [
    {
     "name": "stdout",
     "output_type": "stream",
     "text": [
      "Adj Rsquared: 0.938\n",
      "Dropped column: OpenPorchSF\n"
     ]
    }
   ],
   "source": [
    "from statsmodels.api import OLS,add_constant\n",
    "xconst = add_constant(xtrain)\n",
    "ols = OLS(ytrain,xconst)\n",
    "model = ols.fit()\n",
    "print(\"Adj Rsquared:\",round(model.rsquared_adj,4))\n",
    "col_with_high_pval = model.pvalues.sort_values().index[-2]\n",
    "Xnew = Xnew.drop(labels=col_with_high_pval,axis=1)\n",
    "print(\"Dropped column:\",col_with_high_pval)\n",
    "from sklearn.model_selection import train_test_split\n",
    "xtrain,xtest,ytrain,ytest=train_test_split(Xnew,Y,test_size=0.2,random_state=31)"
   ]
  },
  {
   "cell_type": "code",
   "execution_count": 71,
   "id": "e1ce9486",
   "metadata": {},
   "outputs": [
    {
     "name": "stdout",
     "output_type": "stream",
     "text": [
      "Adj Rsquared: 0.9381\n",
      "Dropped column: FireplaceQu_TA\n"
     ]
    }
   ],
   "source": [
    "from statsmodels.api import OLS,add_constant\n",
    "xconst = add_constant(xtrain)\n",
    "ols = OLS(ytrain,xconst)\n",
    "model = ols.fit()\n",
    "print(\"Adj Rsquared:\",round(model.rsquared_adj,4))\n",
    "col_with_high_pval = model.pvalues.sort_values().index[-2]\n",
    "Xnew = Xnew.drop(labels=col_with_high_pval,axis=1)\n",
    "print(\"Dropped column:\",col_with_high_pval)\n",
    "from sklearn.model_selection import train_test_split\n",
    "xtrain,xtest,ytrain,ytest=train_test_split(Xnew,Y,test_size=0.2,random_state=31)"
   ]
  },
  {
   "cell_type": "code",
   "execution_count": 72,
   "id": "8b65af37",
   "metadata": {},
   "outputs": [
    {
     "name": "stdout",
     "output_type": "stream",
     "text": [
      "Adj Rsquared: 0.9381\n",
      "Dropped column: Exterior2nd_Plywood\n"
     ]
    }
   ],
   "source": [
    "from statsmodels.api import OLS,add_constant\n",
    "xconst = add_constant(xtrain)\n",
    "ols = OLS(ytrain,xconst)\n",
    "model = ols.fit()\n",
    "print(\"Adj Rsquared:\",round(model.rsquared_adj,4))\n",
    "col_with_high_pval = model.pvalues.sort_values().index[-2]\n",
    "Xnew = Xnew.drop(labels=col_with_high_pval,axis=1)\n",
    "print(\"Dropped column:\",col_with_high_pval)\n",
    "from sklearn.model_selection import train_test_split\n",
    "xtrain,xtest,ytrain,ytest=train_test_split(Xnew,Y,test_size=0.2,random_state=31)"
   ]
  },
  {
   "cell_type": "code",
   "execution_count": 73,
   "id": "e5fd664e",
   "metadata": {},
   "outputs": [
    {
     "name": "stdout",
     "output_type": "stream",
     "text": [
      "Adj Rsquared: 0.9381\n",
      "Dropped column: RoofStyle_Gable\n"
     ]
    }
   ],
   "source": [
    "from statsmodels.api import OLS,add_constant\n",
    "xconst = add_constant(xtrain)\n",
    "ols = OLS(ytrain,xconst)\n",
    "model = ols.fit()\n",
    "print(\"Adj Rsquared:\",round(model.rsquared_adj,4))\n",
    "col_with_high_pval = model.pvalues.sort_values().index[-2]\n",
    "Xnew = Xnew.drop(labels=col_with_high_pval,axis=1)\n",
    "print(\"Dropped column:\",col_with_high_pval)\n",
    "from sklearn.model_selection import train_test_split\n",
    "xtrain,xtest,ytrain,ytest=train_test_split(Xnew,Y,test_size=0.2,random_state=31)"
   ]
  },
  {
   "cell_type": "code",
   "execution_count": 74,
   "id": "feff3768",
   "metadata": {},
   "outputs": [
    {
     "name": "stdout",
     "output_type": "stream",
     "text": [
      "Adj Rsquared: 0.9381\n",
      "Dropped column: 3SsnPorch\n"
     ]
    }
   ],
   "source": [
    "from statsmodels.api import OLS,add_constant\n",
    "xconst = add_constant(xtrain)\n",
    "ols = OLS(ytrain,xconst)\n",
    "model = ols.fit()\n",
    "print(\"Adj Rsquared:\",round(model.rsquared_adj,4))\n",
    "col_with_high_pval = model.pvalues.sort_values().index[-2]\n",
    "Xnew = Xnew.drop(labels=col_with_high_pval,axis=1)\n",
    "print(\"Dropped column:\",col_with_high_pval)\n",
    "from sklearn.model_selection import train_test_split\n",
    "xtrain,xtest,ytrain,ytest=train_test_split(Xnew,Y,test_size=0.2,random_state=31)"
   ]
  },
  {
   "cell_type": "code",
   "execution_count": 75,
   "id": "8e82314a",
   "metadata": {},
   "outputs": [
    {
     "name": "stdout",
     "output_type": "stream",
     "text": [
      "Adj Rsquared: 0.9381\n",
      "Dropped column: BsmtFinType2_LwQ\n"
     ]
    }
   ],
   "source": [
    "from statsmodels.api import OLS,add_constant\n",
    "xconst = add_constant(xtrain)\n",
    "ols = OLS(ytrain,xconst)\n",
    "model = ols.fit()\n",
    "print(\"Adj Rsquared:\",round(model.rsquared_adj,4))\n",
    "col_with_high_pval = model.pvalues.sort_values().index[-2]\n",
    "Xnew = Xnew.drop(labels=col_with_high_pval,axis=1)\n",
    "print(\"Dropped column:\",col_with_high_pval)\n",
    "from sklearn.model_selection import train_test_split\n",
    "xtrain,xtest,ytrain,ytest=train_test_split(Xnew,Y,test_size=0.2,random_state=31)"
   ]
  },
  {
   "cell_type": "code",
   "execution_count": 76,
   "id": "b09dbdc2",
   "metadata": {},
   "outputs": [
    {
     "name": "stdout",
     "output_type": "stream",
     "text": [
      "Adj Rsquared: 0.9381\n"
     ]
    },
    {
     "ename": "KeyError",
     "evalue": "\"['const'] not found in axis\"",
     "output_type": "error",
     "traceback": [
      "\u001b[1;31m---------------------------------------------------------------------------\u001b[0m",
      "\u001b[1;31mKeyError\u001b[0m                                  Traceback (most recent call last)",
      "\u001b[1;32m~\\AppData\\Local\\Temp/ipykernel_11772/4198043205.py\u001b[0m in \u001b[0;36m<module>\u001b[1;34m\u001b[0m\n\u001b[0;32m      5\u001b[0m \u001b[0mprint\u001b[0m\u001b[1;33m(\u001b[0m\u001b[1;34m\"Adj Rsquared:\"\u001b[0m\u001b[1;33m,\u001b[0m\u001b[0mround\u001b[0m\u001b[1;33m(\u001b[0m\u001b[0mmodel\u001b[0m\u001b[1;33m.\u001b[0m\u001b[0mrsquared_adj\u001b[0m\u001b[1;33m,\u001b[0m\u001b[1;36m4\u001b[0m\u001b[1;33m)\u001b[0m\u001b[1;33m)\u001b[0m\u001b[1;33m\u001b[0m\u001b[1;33m\u001b[0m\u001b[0m\n\u001b[0;32m      6\u001b[0m \u001b[0mcol_with_high_pval\u001b[0m \u001b[1;33m=\u001b[0m \u001b[0mmodel\u001b[0m\u001b[1;33m.\u001b[0m\u001b[0mpvalues\u001b[0m\u001b[1;33m.\u001b[0m\u001b[0msort_values\u001b[0m\u001b[1;33m(\u001b[0m\u001b[1;33m)\u001b[0m\u001b[1;33m.\u001b[0m\u001b[0mindex\u001b[0m\u001b[1;33m[\u001b[0m\u001b[1;33m-\u001b[0m\u001b[1;36m1\u001b[0m\u001b[1;33m]\u001b[0m\u001b[1;33m\u001b[0m\u001b[1;33m\u001b[0m\u001b[0m\n\u001b[1;32m----> 7\u001b[1;33m \u001b[0mXnew\u001b[0m \u001b[1;33m=\u001b[0m \u001b[0mXnew\u001b[0m\u001b[1;33m.\u001b[0m\u001b[0mdrop\u001b[0m\u001b[1;33m(\u001b[0m\u001b[0mlabels\u001b[0m\u001b[1;33m=\u001b[0m\u001b[0mcol_with_high_pval\u001b[0m\u001b[1;33m,\u001b[0m\u001b[0maxis\u001b[0m\u001b[1;33m=\u001b[0m\u001b[1;36m1\u001b[0m\u001b[1;33m)\u001b[0m\u001b[1;33m\u001b[0m\u001b[1;33m\u001b[0m\u001b[0m\n\u001b[0m\u001b[0;32m      8\u001b[0m \u001b[0mprint\u001b[0m\u001b[1;33m(\u001b[0m\u001b[1;34m\"Dropped column:\"\u001b[0m\u001b[1;33m,\u001b[0m\u001b[0mcol_with_high_pval\u001b[0m\u001b[1;33m)\u001b[0m\u001b[1;33m\u001b[0m\u001b[1;33m\u001b[0m\u001b[0m\n\u001b[0;32m      9\u001b[0m \u001b[1;32mfrom\u001b[0m \u001b[0msklearn\u001b[0m\u001b[1;33m.\u001b[0m\u001b[0mmodel_selection\u001b[0m \u001b[1;32mimport\u001b[0m \u001b[0mtrain_test_split\u001b[0m\u001b[1;33m\u001b[0m\u001b[1;33m\u001b[0m\u001b[0m\n",
      "\u001b[1;32m~\\anaconda3\\lib\\site-packages\\pandas\\util\\_decorators.py\u001b[0m in \u001b[0;36mwrapper\u001b[1;34m(*args, **kwargs)\u001b[0m\n\u001b[0;32m    309\u001b[0m                     \u001b[0mstacklevel\u001b[0m\u001b[1;33m=\u001b[0m\u001b[0mstacklevel\u001b[0m\u001b[1;33m,\u001b[0m\u001b[1;33m\u001b[0m\u001b[1;33m\u001b[0m\u001b[0m\n\u001b[0;32m    310\u001b[0m                 )\n\u001b[1;32m--> 311\u001b[1;33m             \u001b[1;32mreturn\u001b[0m \u001b[0mfunc\u001b[0m\u001b[1;33m(\u001b[0m\u001b[1;33m*\u001b[0m\u001b[0margs\u001b[0m\u001b[1;33m,\u001b[0m \u001b[1;33m**\u001b[0m\u001b[0mkwargs\u001b[0m\u001b[1;33m)\u001b[0m\u001b[1;33m\u001b[0m\u001b[1;33m\u001b[0m\u001b[0m\n\u001b[0m\u001b[0;32m    312\u001b[0m \u001b[1;33m\u001b[0m\u001b[0m\n\u001b[0;32m    313\u001b[0m         \u001b[1;32mreturn\u001b[0m \u001b[0mwrapper\u001b[0m\u001b[1;33m\u001b[0m\u001b[1;33m\u001b[0m\u001b[0m\n",
      "\u001b[1;32m~\\anaconda3\\lib\\site-packages\\pandas\\core\\frame.py\u001b[0m in \u001b[0;36mdrop\u001b[1;34m(self, labels, axis, index, columns, level, inplace, errors)\u001b[0m\n\u001b[0;32m   4904\u001b[0m                 \u001b[0mweight\u001b[0m  \u001b[1;36m1.0\u001b[0m     \u001b[1;36m0.8\u001b[0m\u001b[1;33m\u001b[0m\u001b[1;33m\u001b[0m\u001b[0m\n\u001b[0;32m   4905\u001b[0m         \"\"\"\n\u001b[1;32m-> 4906\u001b[1;33m         return super().drop(\n\u001b[0m\u001b[0;32m   4907\u001b[0m             \u001b[0mlabels\u001b[0m\u001b[1;33m=\u001b[0m\u001b[0mlabels\u001b[0m\u001b[1;33m,\u001b[0m\u001b[1;33m\u001b[0m\u001b[1;33m\u001b[0m\u001b[0m\n\u001b[0;32m   4908\u001b[0m             \u001b[0maxis\u001b[0m\u001b[1;33m=\u001b[0m\u001b[0maxis\u001b[0m\u001b[1;33m,\u001b[0m\u001b[1;33m\u001b[0m\u001b[1;33m\u001b[0m\u001b[0m\n",
      "\u001b[1;32m~\\anaconda3\\lib\\site-packages\\pandas\\core\\generic.py\u001b[0m in \u001b[0;36mdrop\u001b[1;34m(self, labels, axis, index, columns, level, inplace, errors)\u001b[0m\n\u001b[0;32m   4148\u001b[0m         \u001b[1;32mfor\u001b[0m \u001b[0maxis\u001b[0m\u001b[1;33m,\u001b[0m \u001b[0mlabels\u001b[0m \u001b[1;32min\u001b[0m \u001b[0maxes\u001b[0m\u001b[1;33m.\u001b[0m\u001b[0mitems\u001b[0m\u001b[1;33m(\u001b[0m\u001b[1;33m)\u001b[0m\u001b[1;33m:\u001b[0m\u001b[1;33m\u001b[0m\u001b[1;33m\u001b[0m\u001b[0m\n\u001b[0;32m   4149\u001b[0m             \u001b[1;32mif\u001b[0m \u001b[0mlabels\u001b[0m \u001b[1;32mis\u001b[0m \u001b[1;32mnot\u001b[0m \u001b[1;32mNone\u001b[0m\u001b[1;33m:\u001b[0m\u001b[1;33m\u001b[0m\u001b[1;33m\u001b[0m\u001b[0m\n\u001b[1;32m-> 4150\u001b[1;33m                 \u001b[0mobj\u001b[0m \u001b[1;33m=\u001b[0m \u001b[0mobj\u001b[0m\u001b[1;33m.\u001b[0m\u001b[0m_drop_axis\u001b[0m\u001b[1;33m(\u001b[0m\u001b[0mlabels\u001b[0m\u001b[1;33m,\u001b[0m \u001b[0maxis\u001b[0m\u001b[1;33m,\u001b[0m \u001b[0mlevel\u001b[0m\u001b[1;33m=\u001b[0m\u001b[0mlevel\u001b[0m\u001b[1;33m,\u001b[0m \u001b[0merrors\u001b[0m\u001b[1;33m=\u001b[0m\u001b[0merrors\u001b[0m\u001b[1;33m)\u001b[0m\u001b[1;33m\u001b[0m\u001b[1;33m\u001b[0m\u001b[0m\n\u001b[0m\u001b[0;32m   4151\u001b[0m \u001b[1;33m\u001b[0m\u001b[0m\n\u001b[0;32m   4152\u001b[0m         \u001b[1;32mif\u001b[0m \u001b[0minplace\u001b[0m\u001b[1;33m:\u001b[0m\u001b[1;33m\u001b[0m\u001b[1;33m\u001b[0m\u001b[0m\n",
      "\u001b[1;32m~\\anaconda3\\lib\\site-packages\\pandas\\core\\generic.py\u001b[0m in \u001b[0;36m_drop_axis\u001b[1;34m(self, labels, axis, level, errors)\u001b[0m\n\u001b[0;32m   4183\u001b[0m                 \u001b[0mnew_axis\u001b[0m \u001b[1;33m=\u001b[0m \u001b[0maxis\u001b[0m\u001b[1;33m.\u001b[0m\u001b[0mdrop\u001b[0m\u001b[1;33m(\u001b[0m\u001b[0mlabels\u001b[0m\u001b[1;33m,\u001b[0m \u001b[0mlevel\u001b[0m\u001b[1;33m=\u001b[0m\u001b[0mlevel\u001b[0m\u001b[1;33m,\u001b[0m \u001b[0merrors\u001b[0m\u001b[1;33m=\u001b[0m\u001b[0merrors\u001b[0m\u001b[1;33m)\u001b[0m\u001b[1;33m\u001b[0m\u001b[1;33m\u001b[0m\u001b[0m\n\u001b[0;32m   4184\u001b[0m             \u001b[1;32melse\u001b[0m\u001b[1;33m:\u001b[0m\u001b[1;33m\u001b[0m\u001b[1;33m\u001b[0m\u001b[0m\n\u001b[1;32m-> 4185\u001b[1;33m                 \u001b[0mnew_axis\u001b[0m \u001b[1;33m=\u001b[0m \u001b[0maxis\u001b[0m\u001b[1;33m.\u001b[0m\u001b[0mdrop\u001b[0m\u001b[1;33m(\u001b[0m\u001b[0mlabels\u001b[0m\u001b[1;33m,\u001b[0m \u001b[0merrors\u001b[0m\u001b[1;33m=\u001b[0m\u001b[0merrors\u001b[0m\u001b[1;33m)\u001b[0m\u001b[1;33m\u001b[0m\u001b[1;33m\u001b[0m\u001b[0m\n\u001b[0m\u001b[0;32m   4186\u001b[0m             \u001b[0mresult\u001b[0m \u001b[1;33m=\u001b[0m \u001b[0mself\u001b[0m\u001b[1;33m.\u001b[0m\u001b[0mreindex\u001b[0m\u001b[1;33m(\u001b[0m\u001b[1;33m**\u001b[0m\u001b[1;33m{\u001b[0m\u001b[0maxis_name\u001b[0m\u001b[1;33m:\u001b[0m \u001b[0mnew_axis\u001b[0m\u001b[1;33m}\u001b[0m\u001b[1;33m)\u001b[0m\u001b[1;33m\u001b[0m\u001b[1;33m\u001b[0m\u001b[0m\n\u001b[0;32m   4187\u001b[0m \u001b[1;33m\u001b[0m\u001b[0m\n",
      "\u001b[1;32m~\\anaconda3\\lib\\site-packages\\pandas\\core\\indexes\\base.py\u001b[0m in \u001b[0;36mdrop\u001b[1;34m(self, labels, errors)\u001b[0m\n\u001b[0;32m   6015\u001b[0m         \u001b[1;32mif\u001b[0m \u001b[0mmask\u001b[0m\u001b[1;33m.\u001b[0m\u001b[0many\u001b[0m\u001b[1;33m(\u001b[0m\u001b[1;33m)\u001b[0m\u001b[1;33m:\u001b[0m\u001b[1;33m\u001b[0m\u001b[1;33m\u001b[0m\u001b[0m\n\u001b[0;32m   6016\u001b[0m             \u001b[1;32mif\u001b[0m \u001b[0merrors\u001b[0m \u001b[1;33m!=\u001b[0m \u001b[1;34m\"ignore\"\u001b[0m\u001b[1;33m:\u001b[0m\u001b[1;33m\u001b[0m\u001b[1;33m\u001b[0m\u001b[0m\n\u001b[1;32m-> 6017\u001b[1;33m                 \u001b[1;32mraise\u001b[0m \u001b[0mKeyError\u001b[0m\u001b[1;33m(\u001b[0m\u001b[1;34mf\"{labels[mask]} not found in axis\"\u001b[0m\u001b[1;33m)\u001b[0m\u001b[1;33m\u001b[0m\u001b[1;33m\u001b[0m\u001b[0m\n\u001b[0m\u001b[0;32m   6018\u001b[0m             \u001b[0mindexer\u001b[0m \u001b[1;33m=\u001b[0m \u001b[0mindexer\u001b[0m\u001b[1;33m[\u001b[0m\u001b[1;33m~\u001b[0m\u001b[0mmask\u001b[0m\u001b[1;33m]\u001b[0m\u001b[1;33m\u001b[0m\u001b[1;33m\u001b[0m\u001b[0m\n\u001b[0;32m   6019\u001b[0m         \u001b[1;32mreturn\u001b[0m \u001b[0mself\u001b[0m\u001b[1;33m.\u001b[0m\u001b[0mdelete\u001b[0m\u001b[1;33m(\u001b[0m\u001b[0mindexer\u001b[0m\u001b[1;33m)\u001b[0m\u001b[1;33m\u001b[0m\u001b[1;33m\u001b[0m\u001b[0m\n",
      "\u001b[1;31mKeyError\u001b[0m: \"['const'] not found in axis\""
     ]
    }
   ],
   "source": [
    "from statsmodels.api import OLS,add_constant\n",
    "xconst = add_constant(xtrain)\n",
    "ols = OLS(ytrain,xconst)\n",
    "model = ols.fit()\n",
    "print(\"Adj Rsquared:\",round(model.rsquared_adj,4))\n",
    "col_with_high_pval = model.pvalues.sort_values().index[-1]\n",
    "Xnew = Xnew.drop(labels=col_with_high_pval,axis=1)\n",
    "print(\"Dropped column:\",col_with_high_pval)\n",
    "from sklearn.model_selection import train_test_split\n",
    "xtrain,xtest,ytrain,ytest=train_test_split(Xnew,Y,test_size=0.2,random_state=31)"
   ]
  },
  {
   "cell_type": "code",
   "execution_count": 77,
   "id": "800ddfa5",
   "metadata": {},
   "outputs": [
    {
     "name": "stdout",
     "output_type": "stream",
     "text": [
      "Adj Rsquared: 0.9381\n",
      "Dropped column: BsmtFinSF2\n"
     ]
    }
   ],
   "source": [
    "from statsmodels.api import OLS,add_constant\n",
    "xconst = add_constant(xtrain)\n",
    "ols = OLS(ytrain,xconst)\n",
    "model = ols.fit()\n",
    "print(\"Adj Rsquared:\",round(model.rsquared_adj,4))\n",
    "col_with_high_pval = model.pvalues.sort_values().index[-2]\n",
    "Xnew = Xnew.drop(labels=col_with_high_pval,axis=1)\n",
    "print(\"Dropped column:\",col_with_high_pval)\n",
    "from sklearn.model_selection import train_test_split\n",
    "xtrain,xtest,ytrain,ytest=train_test_split(Xnew,Y,test_size=0.2,random_state=31)"
   ]
  },
  {
   "cell_type": "code",
   "execution_count": 78,
   "id": "1146b466",
   "metadata": {},
   "outputs": [
    {
     "name": "stdout",
     "output_type": "stream",
     "text": [
      "Adj Rsquared: 0.9381\n",
      "Dropped column: GarageType_Basment\n"
     ]
    }
   ],
   "source": [
    "from statsmodels.api import OLS,add_constant\n",
    "xconst = add_constant(xtrain)\n",
    "ols = OLS(ytrain,xconst)\n",
    "model = ols.fit()\n",
    "print(\"Adj Rsquared:\",round(model.rsquared_adj,4))\n",
    "col_with_high_pval = model.pvalues.sort_values().index[-2]\n",
    "Xnew = Xnew.drop(labels=col_with_high_pval,axis=1)\n",
    "print(\"Dropped column:\",col_with_high_pval)\n",
    "from sklearn.model_selection import train_test_split\n",
    "xtrain,xtest,ytrain,ytest=train_test_split(Xnew,Y,test_size=0.2,random_state=31)"
   ]
  },
  {
   "cell_type": "code",
   "execution_count": 79,
   "id": "57e1cebd",
   "metadata": {},
   "outputs": [
    {
     "name": "stdout",
     "output_type": "stream",
     "text": [
      "Adj Rsquared: 0.9381\n",
      "Dropped column: Exterior1st_Stucco\n"
     ]
    }
   ],
   "source": [
    "from statsmodels.api import OLS,add_constant\n",
    "xconst = add_constant(xtrain)\n",
    "ols = OLS(ytrain,xconst)\n",
    "model = ols.fit()\n",
    "print(\"Adj Rsquared:\",round(model.rsquared_adj,4))\n",
    "col_with_high_pval = model.pvalues.sort_values().index[-2]\n",
    "Xnew = Xnew.drop(labels=col_with_high_pval,axis=1)\n",
    "print(\"Dropped column:\",col_with_high_pval)\n",
    "from sklearn.model_selection import train_test_split\n",
    "xtrain,xtest,ytrain,ytest=train_test_split(Xnew,Y,test_size=0.2,random_state=31)"
   ]
  },
  {
   "cell_type": "code",
   "execution_count": 80,
   "id": "04ad5165",
   "metadata": {},
   "outputs": [
    {
     "name": "stdout",
     "output_type": "stream",
     "text": [
      "Adj Rsquared: 0.9381\n",
      "Dropped column: Neighborhood_IDOTRR\n"
     ]
    }
   ],
   "source": [
    "from statsmodels.api import OLS,add_constant\n",
    "xconst = add_constant(xtrain)\n",
    "ols = OLS(ytrain,xconst)\n",
    "model = ols.fit()\n",
    "print(\"Adj Rsquared:\",round(model.rsquared_adj,4))\n",
    "col_with_high_pval = model.pvalues.sort_values().index[-2]\n",
    "Xnew = Xnew.drop(labels=col_with_high_pval,axis=1)\n",
    "print(\"Dropped column:\",col_with_high_pval)\n",
    "from sklearn.model_selection import train_test_split\n",
    "xtrain,xtest,ytrain,ytest=train_test_split(Xnew,Y,test_size=0.2,random_state=31)"
   ]
  },
  {
   "cell_type": "code",
   "execution_count": 81,
   "id": "c1c85546",
   "metadata": {},
   "outputs": [
    {
     "name": "stdout",
     "output_type": "stream",
     "text": [
      "Adj Rsquared: 0.9381\n",
      "Dropped column: Exterior1st_Wd Sdng\n"
     ]
    }
   ],
   "source": [
    "from statsmodels.api import OLS,add_constant\n",
    "xconst = add_constant(xtrain)\n",
    "ols = OLS(ytrain,xconst)\n",
    "model = ols.fit()\n",
    "print(\"Adj Rsquared:\",round(model.rsquared_adj,4))\n",
    "col_with_high_pval = model.pvalues.sort_values().index[-2]\n",
    "Xnew = Xnew.drop(labels=col_with_high_pval,axis=1)\n",
    "print(\"Dropped column:\",col_with_high_pval)\n",
    "from sklearn.model_selection import train_test_split\n",
    "xtrain,xtest,ytrain,ytest=train_test_split(Xnew,Y,test_size=0.2,random_state=31)"
   ]
  },
  {
   "cell_type": "code",
   "execution_count": 82,
   "id": "41b647a0",
   "metadata": {},
   "outputs": [
    {
     "name": "stdout",
     "output_type": "stream",
     "text": [
      "Adj Rsquared: 0.9381\n"
     ]
    },
    {
     "ename": "KeyError",
     "evalue": "\"['const'] not found in axis\"",
     "output_type": "error",
     "traceback": [
      "\u001b[1;31m---------------------------------------------------------------------------\u001b[0m",
      "\u001b[1;31mKeyError\u001b[0m                                  Traceback (most recent call last)",
      "\u001b[1;32m~\\AppData\\Local\\Temp/ipykernel_11772/4198043205.py\u001b[0m in \u001b[0;36m<module>\u001b[1;34m\u001b[0m\n\u001b[0;32m      5\u001b[0m \u001b[0mprint\u001b[0m\u001b[1;33m(\u001b[0m\u001b[1;34m\"Adj Rsquared:\"\u001b[0m\u001b[1;33m,\u001b[0m\u001b[0mround\u001b[0m\u001b[1;33m(\u001b[0m\u001b[0mmodel\u001b[0m\u001b[1;33m.\u001b[0m\u001b[0mrsquared_adj\u001b[0m\u001b[1;33m,\u001b[0m\u001b[1;36m4\u001b[0m\u001b[1;33m)\u001b[0m\u001b[1;33m)\u001b[0m\u001b[1;33m\u001b[0m\u001b[1;33m\u001b[0m\u001b[0m\n\u001b[0;32m      6\u001b[0m \u001b[0mcol_with_high_pval\u001b[0m \u001b[1;33m=\u001b[0m \u001b[0mmodel\u001b[0m\u001b[1;33m.\u001b[0m\u001b[0mpvalues\u001b[0m\u001b[1;33m.\u001b[0m\u001b[0msort_values\u001b[0m\u001b[1;33m(\u001b[0m\u001b[1;33m)\u001b[0m\u001b[1;33m.\u001b[0m\u001b[0mindex\u001b[0m\u001b[1;33m[\u001b[0m\u001b[1;33m-\u001b[0m\u001b[1;36m1\u001b[0m\u001b[1;33m]\u001b[0m\u001b[1;33m\u001b[0m\u001b[1;33m\u001b[0m\u001b[0m\n\u001b[1;32m----> 7\u001b[1;33m \u001b[0mXnew\u001b[0m \u001b[1;33m=\u001b[0m \u001b[0mXnew\u001b[0m\u001b[1;33m.\u001b[0m\u001b[0mdrop\u001b[0m\u001b[1;33m(\u001b[0m\u001b[0mlabels\u001b[0m\u001b[1;33m=\u001b[0m\u001b[0mcol_with_high_pval\u001b[0m\u001b[1;33m,\u001b[0m\u001b[0maxis\u001b[0m\u001b[1;33m=\u001b[0m\u001b[1;36m1\u001b[0m\u001b[1;33m)\u001b[0m\u001b[1;33m\u001b[0m\u001b[1;33m\u001b[0m\u001b[0m\n\u001b[0m\u001b[0;32m      8\u001b[0m \u001b[0mprint\u001b[0m\u001b[1;33m(\u001b[0m\u001b[1;34m\"Dropped column:\"\u001b[0m\u001b[1;33m,\u001b[0m\u001b[0mcol_with_high_pval\u001b[0m\u001b[1;33m)\u001b[0m\u001b[1;33m\u001b[0m\u001b[1;33m\u001b[0m\u001b[0m\n\u001b[0;32m      9\u001b[0m \u001b[1;32mfrom\u001b[0m \u001b[0msklearn\u001b[0m\u001b[1;33m.\u001b[0m\u001b[0mmodel_selection\u001b[0m \u001b[1;32mimport\u001b[0m \u001b[0mtrain_test_split\u001b[0m\u001b[1;33m\u001b[0m\u001b[1;33m\u001b[0m\u001b[0m\n",
      "\u001b[1;32m~\\anaconda3\\lib\\site-packages\\pandas\\util\\_decorators.py\u001b[0m in \u001b[0;36mwrapper\u001b[1;34m(*args, **kwargs)\u001b[0m\n\u001b[0;32m    309\u001b[0m                     \u001b[0mstacklevel\u001b[0m\u001b[1;33m=\u001b[0m\u001b[0mstacklevel\u001b[0m\u001b[1;33m,\u001b[0m\u001b[1;33m\u001b[0m\u001b[1;33m\u001b[0m\u001b[0m\n\u001b[0;32m    310\u001b[0m                 )\n\u001b[1;32m--> 311\u001b[1;33m             \u001b[1;32mreturn\u001b[0m \u001b[0mfunc\u001b[0m\u001b[1;33m(\u001b[0m\u001b[1;33m*\u001b[0m\u001b[0margs\u001b[0m\u001b[1;33m,\u001b[0m \u001b[1;33m**\u001b[0m\u001b[0mkwargs\u001b[0m\u001b[1;33m)\u001b[0m\u001b[1;33m\u001b[0m\u001b[1;33m\u001b[0m\u001b[0m\n\u001b[0m\u001b[0;32m    312\u001b[0m \u001b[1;33m\u001b[0m\u001b[0m\n\u001b[0;32m    313\u001b[0m         \u001b[1;32mreturn\u001b[0m \u001b[0mwrapper\u001b[0m\u001b[1;33m\u001b[0m\u001b[1;33m\u001b[0m\u001b[0m\n",
      "\u001b[1;32m~\\anaconda3\\lib\\site-packages\\pandas\\core\\frame.py\u001b[0m in \u001b[0;36mdrop\u001b[1;34m(self, labels, axis, index, columns, level, inplace, errors)\u001b[0m\n\u001b[0;32m   4904\u001b[0m                 \u001b[0mweight\u001b[0m  \u001b[1;36m1.0\u001b[0m     \u001b[1;36m0.8\u001b[0m\u001b[1;33m\u001b[0m\u001b[1;33m\u001b[0m\u001b[0m\n\u001b[0;32m   4905\u001b[0m         \"\"\"\n\u001b[1;32m-> 4906\u001b[1;33m         return super().drop(\n\u001b[0m\u001b[0;32m   4907\u001b[0m             \u001b[0mlabels\u001b[0m\u001b[1;33m=\u001b[0m\u001b[0mlabels\u001b[0m\u001b[1;33m,\u001b[0m\u001b[1;33m\u001b[0m\u001b[1;33m\u001b[0m\u001b[0m\n\u001b[0;32m   4908\u001b[0m             \u001b[0maxis\u001b[0m\u001b[1;33m=\u001b[0m\u001b[0maxis\u001b[0m\u001b[1;33m,\u001b[0m\u001b[1;33m\u001b[0m\u001b[1;33m\u001b[0m\u001b[0m\n",
      "\u001b[1;32m~\\anaconda3\\lib\\site-packages\\pandas\\core\\generic.py\u001b[0m in \u001b[0;36mdrop\u001b[1;34m(self, labels, axis, index, columns, level, inplace, errors)\u001b[0m\n\u001b[0;32m   4148\u001b[0m         \u001b[1;32mfor\u001b[0m \u001b[0maxis\u001b[0m\u001b[1;33m,\u001b[0m \u001b[0mlabels\u001b[0m \u001b[1;32min\u001b[0m \u001b[0maxes\u001b[0m\u001b[1;33m.\u001b[0m\u001b[0mitems\u001b[0m\u001b[1;33m(\u001b[0m\u001b[1;33m)\u001b[0m\u001b[1;33m:\u001b[0m\u001b[1;33m\u001b[0m\u001b[1;33m\u001b[0m\u001b[0m\n\u001b[0;32m   4149\u001b[0m             \u001b[1;32mif\u001b[0m \u001b[0mlabels\u001b[0m \u001b[1;32mis\u001b[0m \u001b[1;32mnot\u001b[0m \u001b[1;32mNone\u001b[0m\u001b[1;33m:\u001b[0m\u001b[1;33m\u001b[0m\u001b[1;33m\u001b[0m\u001b[0m\n\u001b[1;32m-> 4150\u001b[1;33m                 \u001b[0mobj\u001b[0m \u001b[1;33m=\u001b[0m \u001b[0mobj\u001b[0m\u001b[1;33m.\u001b[0m\u001b[0m_drop_axis\u001b[0m\u001b[1;33m(\u001b[0m\u001b[0mlabels\u001b[0m\u001b[1;33m,\u001b[0m \u001b[0maxis\u001b[0m\u001b[1;33m,\u001b[0m \u001b[0mlevel\u001b[0m\u001b[1;33m=\u001b[0m\u001b[0mlevel\u001b[0m\u001b[1;33m,\u001b[0m \u001b[0merrors\u001b[0m\u001b[1;33m=\u001b[0m\u001b[0merrors\u001b[0m\u001b[1;33m)\u001b[0m\u001b[1;33m\u001b[0m\u001b[1;33m\u001b[0m\u001b[0m\n\u001b[0m\u001b[0;32m   4151\u001b[0m \u001b[1;33m\u001b[0m\u001b[0m\n\u001b[0;32m   4152\u001b[0m         \u001b[1;32mif\u001b[0m \u001b[0minplace\u001b[0m\u001b[1;33m:\u001b[0m\u001b[1;33m\u001b[0m\u001b[1;33m\u001b[0m\u001b[0m\n",
      "\u001b[1;32m~\\anaconda3\\lib\\site-packages\\pandas\\core\\generic.py\u001b[0m in \u001b[0;36m_drop_axis\u001b[1;34m(self, labels, axis, level, errors)\u001b[0m\n\u001b[0;32m   4183\u001b[0m                 \u001b[0mnew_axis\u001b[0m \u001b[1;33m=\u001b[0m \u001b[0maxis\u001b[0m\u001b[1;33m.\u001b[0m\u001b[0mdrop\u001b[0m\u001b[1;33m(\u001b[0m\u001b[0mlabels\u001b[0m\u001b[1;33m,\u001b[0m \u001b[0mlevel\u001b[0m\u001b[1;33m=\u001b[0m\u001b[0mlevel\u001b[0m\u001b[1;33m,\u001b[0m \u001b[0merrors\u001b[0m\u001b[1;33m=\u001b[0m\u001b[0merrors\u001b[0m\u001b[1;33m)\u001b[0m\u001b[1;33m\u001b[0m\u001b[1;33m\u001b[0m\u001b[0m\n\u001b[0;32m   4184\u001b[0m             \u001b[1;32melse\u001b[0m\u001b[1;33m:\u001b[0m\u001b[1;33m\u001b[0m\u001b[1;33m\u001b[0m\u001b[0m\n\u001b[1;32m-> 4185\u001b[1;33m                 \u001b[0mnew_axis\u001b[0m \u001b[1;33m=\u001b[0m \u001b[0maxis\u001b[0m\u001b[1;33m.\u001b[0m\u001b[0mdrop\u001b[0m\u001b[1;33m(\u001b[0m\u001b[0mlabels\u001b[0m\u001b[1;33m,\u001b[0m \u001b[0merrors\u001b[0m\u001b[1;33m=\u001b[0m\u001b[0merrors\u001b[0m\u001b[1;33m)\u001b[0m\u001b[1;33m\u001b[0m\u001b[1;33m\u001b[0m\u001b[0m\n\u001b[0m\u001b[0;32m   4186\u001b[0m             \u001b[0mresult\u001b[0m \u001b[1;33m=\u001b[0m \u001b[0mself\u001b[0m\u001b[1;33m.\u001b[0m\u001b[0mreindex\u001b[0m\u001b[1;33m(\u001b[0m\u001b[1;33m**\u001b[0m\u001b[1;33m{\u001b[0m\u001b[0maxis_name\u001b[0m\u001b[1;33m:\u001b[0m \u001b[0mnew_axis\u001b[0m\u001b[1;33m}\u001b[0m\u001b[1;33m)\u001b[0m\u001b[1;33m\u001b[0m\u001b[1;33m\u001b[0m\u001b[0m\n\u001b[0;32m   4187\u001b[0m \u001b[1;33m\u001b[0m\u001b[0m\n",
      "\u001b[1;32m~\\anaconda3\\lib\\site-packages\\pandas\\core\\indexes\\base.py\u001b[0m in \u001b[0;36mdrop\u001b[1;34m(self, labels, errors)\u001b[0m\n\u001b[0;32m   6015\u001b[0m         \u001b[1;32mif\u001b[0m \u001b[0mmask\u001b[0m\u001b[1;33m.\u001b[0m\u001b[0many\u001b[0m\u001b[1;33m(\u001b[0m\u001b[1;33m)\u001b[0m\u001b[1;33m:\u001b[0m\u001b[1;33m\u001b[0m\u001b[1;33m\u001b[0m\u001b[0m\n\u001b[0;32m   6016\u001b[0m             \u001b[1;32mif\u001b[0m \u001b[0merrors\u001b[0m \u001b[1;33m!=\u001b[0m \u001b[1;34m\"ignore\"\u001b[0m\u001b[1;33m:\u001b[0m\u001b[1;33m\u001b[0m\u001b[1;33m\u001b[0m\u001b[0m\n\u001b[1;32m-> 6017\u001b[1;33m                 \u001b[1;32mraise\u001b[0m \u001b[0mKeyError\u001b[0m\u001b[1;33m(\u001b[0m\u001b[1;34mf\"{labels[mask]} not found in axis\"\u001b[0m\u001b[1;33m)\u001b[0m\u001b[1;33m\u001b[0m\u001b[1;33m\u001b[0m\u001b[0m\n\u001b[0m\u001b[0;32m   6018\u001b[0m             \u001b[0mindexer\u001b[0m \u001b[1;33m=\u001b[0m \u001b[0mindexer\u001b[0m\u001b[1;33m[\u001b[0m\u001b[1;33m~\u001b[0m\u001b[0mmask\u001b[0m\u001b[1;33m]\u001b[0m\u001b[1;33m\u001b[0m\u001b[1;33m\u001b[0m\u001b[0m\n\u001b[0;32m   6019\u001b[0m         \u001b[1;32mreturn\u001b[0m \u001b[0mself\u001b[0m\u001b[1;33m.\u001b[0m\u001b[0mdelete\u001b[0m\u001b[1;33m(\u001b[0m\u001b[0mindexer\u001b[0m\u001b[1;33m)\u001b[0m\u001b[1;33m\u001b[0m\u001b[1;33m\u001b[0m\u001b[0m\n",
      "\u001b[1;31mKeyError\u001b[0m: \"['const'] not found in axis\""
     ]
    }
   ],
   "source": [
    "from statsmodels.api import OLS,add_constant\n",
    "xconst = add_constant(xtrain)\n",
    "ols = OLS(ytrain,xconst)\n",
    "model = ols.fit()\n",
    "print(\"Adj Rsquared:\",round(model.rsquared_adj,4))\n",
    "col_with_high_pval = model.pvalues.sort_values().index[-1]\n",
    "Xnew = Xnew.drop(labels=col_with_high_pval,axis=1)\n",
    "print(\"Dropped column:\",col_with_high_pval)\n",
    "from sklearn.model_selection import train_test_split\n",
    "xtrain,xtest,ytrain,ytest=train_test_split(Xnew,Y,test_size=0.2,random_state=31)"
   ]
  },
  {
   "cell_type": "code",
   "execution_count": 83,
   "id": "46375991",
   "metadata": {},
   "outputs": [
    {
     "name": "stdout",
     "output_type": "stream",
     "text": [
      "Adj Rsquared: 0.9381\n",
      "Dropped column: KitchenQual_TA\n"
     ]
    }
   ],
   "source": [
    "from statsmodels.api import OLS,add_constant\n",
    "xconst = add_constant(xtrain)\n",
    "ols = OLS(ytrain,xconst)\n",
    "model = ols.fit()\n",
    "print(\"Adj Rsquared:\",round(model.rsquared_adj,4))\n",
    "col_with_high_pval = model.pvalues.sort_values().index[-2]\n",
    "Xnew = Xnew.drop(labels=col_with_high_pval,axis=1)\n",
    "print(\"Dropped column:\",col_with_high_pval)\n",
    "from sklearn.model_selection import train_test_split\n",
    "xtrain,xtest,ytrain,ytest=train_test_split(Xnew,Y,test_size=0.2,random_state=31)"
   ]
  },
  {
   "cell_type": "code",
   "execution_count": 85,
   "id": "09fccf78",
   "metadata": {},
   "outputs": [
    {
     "name": "stdout",
     "output_type": "stream",
     "text": [
      "Adj Rsquared: 0.9382\n",
      "Dropped column: KitchenQual_Gd\n"
     ]
    }
   ],
   "source": [
    "from statsmodels.api import OLS,add_constant\n",
    "xconst = add_constant(xtrain)\n",
    "ols = OLS(ytrain,xconst)\n",
    "model = ols.fit()\n",
    "print(\"Adj Rsquared:\",round(model.rsquared_adj,4))\n",
    "col_with_high_pval = model.pvalues.sort_values().index[-1]\n",
    "Xnew = Xnew.drop(labels=col_with_high_pval,axis=1)\n",
    "print(\"Dropped column:\",col_with_high_pval)\n",
    "from sklearn.model_selection import train_test_split\n",
    "xtrain,xtest,ytrain,ytest=train_test_split(Xnew,Y,test_size=0.2,random_state=31)"
   ]
  },
  {
   "cell_type": "code",
   "execution_count": 87,
   "id": "58902eaa",
   "metadata": {},
   "outputs": [
    {
     "name": "stdout",
     "output_type": "stream",
     "text": [
      "Adj Rsquared: 0.9382\n",
      "Dropped column: Utilities_NoSeWa\n"
     ]
    }
   ],
   "source": [
    "from statsmodels.api import OLS,add_constant\n",
    "xconst = add_constant(xtrain)\n",
    "ols = OLS(ytrain,xconst)\n",
    "model = ols.fit()\n",
    "print(\"Adj Rsquared:\",round(model.rsquared_adj,4))\n",
    "col_with_high_pval = model.pvalues.sort_values().index[-2]\n",
    "Xnew = Xnew.drop(labels=col_with_high_pval,axis=1)\n",
    "print(\"Dropped column:\",col_with_high_pval)\n",
    "from sklearn.model_selection import train_test_split\n",
    "xtrain,xtest,ytrain,ytest=train_test_split(Xnew,Y,test_size=0.2,random_state=31)"
   ]
  },
  {
   "cell_type": "code",
   "execution_count": 88,
   "id": "fd08c80d",
   "metadata": {},
   "outputs": [
    {
     "name": "stdout",
     "output_type": "stream",
     "text": [
      "Adj Rsquared: 0.9382\n",
      "Dropped column: MoSold\n"
     ]
    }
   ],
   "source": [
    "from statsmodels.api import OLS,add_constant\n",
    "xconst = add_constant(xtrain)\n",
    "ols = OLS(ytrain,xconst)\n",
    "model = ols.fit()\n",
    "print(\"Adj Rsquared:\",round(model.rsquared_adj,4))\n",
    "col_with_high_pval = model.pvalues.sort_values().index[-2]\n",
    "Xnew = Xnew.drop(labels=col_with_high_pval,axis=1)\n",
    "print(\"Dropped column:\",col_with_high_pval)\n",
    "from sklearn.model_selection import train_test_split\n",
    "xtrain,xtest,ytrain,ytest=train_test_split(Xnew,Y,test_size=0.2,random_state=31)"
   ]
  },
  {
   "cell_type": "code",
   "execution_count": 89,
   "id": "c7b97b28",
   "metadata": {},
   "outputs": [
    {
     "name": "stdout",
     "output_type": "stream",
     "text": [
      "Adj Rsquared: 0.9382\n",
      "Dropped column: SaleType_ConLw\n"
     ]
    }
   ],
   "source": [
    "from statsmodels.api import OLS,add_constant\n",
    "xconst = add_constant(xtrain)\n",
    "ols = OLS(ytrain,xconst)\n",
    "model = ols.fit()\n",
    "print(\"Adj Rsquared:\",round(model.rsquared_adj,4))\n",
    "col_with_high_pval = model.pvalues.sort_values().index[-2]\n",
    "Xnew = Xnew.drop(labels=col_with_high_pval,axis=1)\n",
    "print(\"Dropped column:\",col_with_high_pval)\n",
    "from sklearn.model_selection import train_test_split\n",
    "xtrain,xtest,ytrain,ytest=train_test_split(Xnew,Y,test_size=0.2,random_state=31)"
   ]
  },
  {
   "cell_type": "code",
   "execution_count": 91,
   "id": "01d86138",
   "metadata": {},
   "outputs": [
    {
     "name": "stdout",
     "output_type": "stream",
     "text": [
      "Adj Rsquared: 0.9382\n",
      "Dropped column: LotShape_IR3\n"
     ]
    }
   ],
   "source": [
    "from statsmodels.api import OLS,add_constant\n",
    "xconst = add_constant(xtrain)\n",
    "ols = OLS(ytrain,xconst)\n",
    "model = ols.fit()\n",
    "print(\"Adj Rsquared:\",round(model.rsquared_adj,4))\n",
    "col_with_high_pval = model.pvalues.sort_values().index[-2]\n",
    "Xnew = Xnew.drop(labels=col_with_high_pval,axis=1)\n",
    "print(\"Dropped column:\",col_with_high_pval)\n",
    "from sklearn.model_selection import train_test_split\n",
    "xtrain,xtest,ytrain,ytest=train_test_split(Xnew,Y,test_size=0.2,random_state=31)"
   ]
  },
  {
   "cell_type": "code",
   "execution_count": 92,
   "id": "79dd68df",
   "metadata": {},
   "outputs": [
    {
     "name": "stdout",
     "output_type": "stream",
     "text": [
      "Adj Rsquared: 0.9382\n",
      "Dropped column: LotShape_Reg\n"
     ]
    }
   ],
   "source": [
    "from statsmodels.api import OLS,add_constant\n",
    "xconst = add_constant(xtrain)\n",
    "ols = OLS(ytrain,xconst)\n",
    "model = ols.fit()\n",
    "print(\"Adj Rsquared:\",round(model.rsquared_adj,4))\n",
    "col_with_high_pval = model.pvalues.sort_values().index[-2]\n",
    "Xnew = Xnew.drop(labels=col_with_high_pval,axis=1)\n",
    "print(\"Dropped column:\",col_with_high_pval)\n",
    "from sklearn.model_selection import train_test_split\n",
    "xtrain,xtest,ytrain,ytest=train_test_split(Xnew,Y,test_size=0.2,random_state=31)"
   ]
  },
  {
   "cell_type": "code",
   "execution_count": 94,
   "id": "d034fb0d",
   "metadata": {},
   "outputs": [
    {
     "name": "stdout",
     "output_type": "stream",
     "text": [
      "Adj Rsquared: 0.9382\n",
      "Dropped column: LotShape_IR1\n"
     ]
    }
   ],
   "source": [
    "from statsmodels.api import OLS,add_constant\n",
    "xconst = add_constant(xtrain)\n",
    "ols = OLS(ytrain,xconst)\n",
    "model = ols.fit()\n",
    "print(\"Adj Rsquared:\",round(model.rsquared_adj,4))\n",
    "col_with_high_pval = model.pvalues.sort_values().index[-1]\n",
    "Xnew = Xnew.drop(labels=col_with_high_pval,axis=1)\n",
    "print(\"Dropped column:\",col_with_high_pval)\n",
    "from sklearn.model_selection import train_test_split\n",
    "xtrain,xtest,ytrain,ytest=train_test_split(Xnew,Y,test_size=0.2,random_state=31)"
   ]
  },
  {
   "cell_type": "code",
   "execution_count": 95,
   "id": "4a1e9e24",
   "metadata": {},
   "outputs": [
    {
     "name": "stdout",
     "output_type": "stream",
     "text": [
      "Adj Rsquared: 0.9382\n",
      "Dropped column: FireplaceQu_Ex\n"
     ]
    }
   ],
   "source": [
    "from statsmodels.api import OLS,add_constant\n",
    "xconst = add_constant(xtrain)\n",
    "ols = OLS(ytrain,xconst)\n",
    "model = ols.fit()\n",
    "print(\"Adj Rsquared:\",round(model.rsquared_adj,4))\n",
    "col_with_high_pval = model.pvalues.sort_values().index[-2]\n",
    "Xnew = Xnew.drop(labels=col_with_high_pval,axis=1)\n",
    "print(\"Dropped column:\",col_with_high_pval)\n",
    "from sklearn.model_selection import train_test_split\n",
    "xtrain,xtest,ytrain,ytest=train_test_split(Xnew,Y,test_size=0.2,random_state=31)"
   ]
  },
  {
   "cell_type": "code",
   "execution_count": 96,
   "id": "bf997b83",
   "metadata": {},
   "outputs": [
    {
     "name": "stdout",
     "output_type": "stream",
     "text": [
      "Adj Rsquared: 0.9382\n",
      "Dropped column: BsmtFinType1_Rec\n"
     ]
    }
   ],
   "source": [
    "from statsmodels.api import OLS,add_constant\n",
    "xconst = add_constant(xtrain)\n",
    "ols = OLS(ytrain,xconst)\n",
    "model = ols.fit()\n",
    "print(\"Adj Rsquared:\",round(model.rsquared_adj,4))\n",
    "col_with_high_pval = model.pvalues.sort_values().index[-2]\n",
    "Xnew = Xnew.drop(labels=col_with_high_pval,axis=1)\n",
    "print(\"Dropped column:\",col_with_high_pval)\n",
    "from sklearn.model_selection import train_test_split\n",
    "xtrain,xtest,ytrain,ytest=train_test_split(Xnew,Y,test_size=0.2,random_state=31)"
   ]
  },
  {
   "cell_type": "code",
   "execution_count": 98,
   "id": "ac254898",
   "metadata": {},
   "outputs": [
    {
     "name": "stdout",
     "output_type": "stream",
     "text": [
      "Adj Rsquared: 0.9382\n",
      "Dropped column: GarageType_2Types\n"
     ]
    }
   ],
   "source": [
    "from statsmodels.api import OLS,add_constant\n",
    "xconst = add_constant(xtrain)\n",
    "ols = OLS(ytrain,xconst)\n",
    "model = ols.fit()\n",
    "print(\"Adj Rsquared:\",round(model.rsquared_adj,4))\n",
    "col_with_high_pval = model.pvalues.sort_values().index[-1]\n",
    "Xnew = Xnew.drop(labels=col_with_high_pval,axis=1)\n",
    "print(\"Dropped column:\",col_with_high_pval)\n",
    "from sklearn.model_selection import train_test_split\n",
    "xtrain,xtest,ytrain,ytest=train_test_split(Xnew,Y,test_size=0.2,random_state=31)"
   ]
  },
  {
   "cell_type": "code",
   "execution_count": 99,
   "id": "fb950955",
   "metadata": {},
   "outputs": [
    {
     "name": "stdout",
     "output_type": "stream",
     "text": [
      "Adj Rsquared: 0.9382\n",
      "Dropped column: Neighborhood_SWISU\n"
     ]
    }
   ],
   "source": [
    "from statsmodels.api import OLS,add_constant\n",
    "xconst = add_constant(xtrain)\n",
    "ols = OLS(ytrain,xconst)\n",
    "model = ols.fit()\n",
    "print(\"Adj Rsquared:\",round(model.rsquared_adj,4))\n",
    "col_with_high_pval = model.pvalues.sort_values().index[-2]\n",
    "Xnew = Xnew.drop(labels=col_with_high_pval,axis=1)\n",
    "print(\"Dropped column:\",col_with_high_pval)\n",
    "from sklearn.model_selection import train_test_split\n",
    "xtrain,xtest,ytrain,ytest=train_test_split(Xnew,Y,test_size=0.2,random_state=31)"
   ]
  },
  {
   "cell_type": "code",
   "execution_count": 167,
   "id": "8f18d575",
   "metadata": {},
   "outputs": [],
   "source": [
    "from sklearn.linear_model import LinearRegression\n",
    "lm = LinearRegression()\n",
    "model=lm.fit(xtrain,ytrain)\n",
    "pred_tr=model.predict(xtrain)\n",
    "pred_ts=model.predict(xtest)\n",
    "    \n",
    "from sklearn.metrics import mean_squared_error,mean_absolute_error\n",
    "tr_err = mean_absolute_error(ytrain, pred_tr)\n",
    "ts_err = mean_absolute_error(ytest, pred_ts)"
   ]
  },
  {
   "cell_type": "code",
   "execution_count": 168,
   "id": "70a6dc2b",
   "metadata": {},
   "outputs": [
    {
     "data": {
      "text/plain": [
       "12797.601883561643"
      ]
     },
     "execution_count": 168,
     "metadata": {},
     "output_type": "execute_result"
    }
   ],
   "source": [
    "tr_err"
   ]
  },
  {
   "cell_type": "code",
   "execution_count": 169,
   "id": "9ee12ab9",
   "metadata": {},
   "outputs": [
    {
     "data": {
      "text/plain": [
       "18338.715753424658"
      ]
     },
     "execution_count": 169,
     "metadata": {},
     "output_type": "execute_result"
    }
   ],
   "source": [
    "ts_err"
   ]
  },
  {
   "cell_type": "code",
   "execution_count": 176,
   "id": "ffcb5923",
   "metadata": {},
   "outputs": [],
   "source": [
    "w=3\n",
    "lambda_to_try =[]\n",
    "\n",
    "for i in range(0, 1000, 1):\n",
    "    w = round(w+0.01,2)\n",
    "    lambda_to_try.append(w)"
   ]
  },
  {
   "cell_type": "code",
   "execution_count": 177,
   "id": "84c6973e",
   "metadata": {},
   "outputs": [],
   "source": [
    "from sklearn.linear_model import Ridge\n",
    "tr=[]\n",
    "ts=[]\n",
    "for i in lambda_to_try:\n",
    "    rr=Ridge(alpha=i)\n",
    "    model=rr.fit(xtrain,ytrain)\n",
    "    pred_tr=model.predict(xtrain)\n",
    "    pred_ts=model.predict(xtest)\n",
    "    tr_err = mean_absolute_error(ytrain, pred_tr)\n",
    "    ts_err = mean_absolute_error(ytest, pred_ts)\n",
    "    tr.append(tr_err)\n",
    "    ts.append(ts_err)"
   ]
  },
  {
   "cell_type": "code",
   "execution_count": null,
   "id": "2293a0bd",
   "metadata": {},
   "outputs": [],
   "source": [
    "import matplotlib.pyplot as plt"
   ]
  },
  {
   "cell_type": "code",
   "execution_count": 178,
   "id": "961e9630",
   "metadata": {},
   "outputs": [
    {
     "data": {
      "text/plain": [
       "[<matplotlib.lines.Line2D at 0x285fa912730>]"
      ]
     },
     "execution_count": 178,
     "metadata": {},
     "output_type": "execute_result"
    },
    {
     "data": {
      "image/png": "[encoded data removed]",
      "text/plain": [
       "<Figure size 432x288 with 1 Axes>"
      ]
     },
     "metadata": {
      "needs_background": "light"
     },
     "output_type": "display_data"
    }
   ],
   "source": [
    "t=range(0,1000,1)\n",
    "plt.plot(t,tr,c='red')\n",
    "plt.plot(t,ts,c='green')"
   ]
  },
  {
   "cell_type": "code",
   "execution_count": 179,
   "id": "c29f6663",
   "metadata": {},
   "outputs": [
    {
     "data": {
      "text/plain": [
       "13.0"
      ]
     },
     "execution_count": 179,
     "metadata": {},
     "output_type": "execute_result"
    }
   ],
   "source": [
    "lambda_to_try[-1]"
   ]
  },
  {
   "cell_type": "code",
   "execution_count": 189,
   "id": "dc9219e2",
   "metadata": {},
   "outputs": [],
   "source": [
    "rr=Ridge(alpha=13)\n",
    "model=rr.fit(xtrain,ytrain)\n",
    "pred_tr=model.predict(xtrain)\n",
    "pred_ts=model.predict(xtest)\n",
    "tr_err = mean_absolute_error(ytrain, pred_tr)\n",
    "ts_err = mean_absolute_error(ytest, pred_ts)"
   ]
  },
  {
   "cell_type": "code",
   "execution_count": 190,
   "id": "0abe0c9a",
   "metadata": {},
   "outputs": [
    {
     "data": {
      "text/plain": [
       "14870.823976775373"
      ]
     },
     "execution_count": 190,
     "metadata": {},
     "output_type": "execute_result"
    }
   ],
   "source": [
    "tr_err"
   ]
  },
  {
   "cell_type": "code",
   "execution_count": 191,
   "id": "cff376ed",
   "metadata": {},
   "outputs": [
    {
     "data": {
      "text/plain": [
       "18417.44230924206"
      ]
     },
     "execution_count": 191,
     "metadata": {},
     "output_type": "execute_result"
    }
   ],
   "source": [
    "ts_err"
   ]
  },
  {
   "cell_type": "code",
   "execution_count": 193,
   "id": "a7d2e04c",
   "metadata": {},
   "outputs": [],
   "source": [
    "from sklearn.linear_model import Lasso"
   ]
  },
  {
   "cell_type": "code",
   "execution_count": 195,
   "id": "b2f5a512",
   "metadata": {},
   "outputs": [],
   "source": [
    "ls=Lasso()"
   ]
  },
  {
   "cell_type": "code",
   "execution_count": 197,
   "id": "9a258a7b",
   "metadata": {},
   "outputs": [],
   "source": [
    "tr=[]\n",
    "ts=[]\n",
    "for i in lambda_to_try:\n",
    "    ls=Lasso(alpha=i)\n",
    "    model=rr.fit(xtrain,ytrain)\n",
    "    pred_tr=model.predict(xtrain)\n",
    "    pred_ts=model.predict(xtest)\n",
    "    tr_err = mean_absolute_error(ytrain, pred_tr)\n",
    "    ts_err = mean_absolute_error(ytest, pred_ts)\n",
    "    tr.append(tr_err)\n",
    "    ts.append(ts_err)"
   ]
  },
  {
   "cell_type": "code",
   "execution_count": 198,
   "id": "caba6172",
   "metadata": {},
   "outputs": [
    {
     "data": {
      "text/plain": [
       "[<matplotlib.lines.Line2D at 0x285fa97c6a0>]"
      ]
     },
     "execution_count": 198,
     "metadata": {},
     "output_type": "execute_result"
    },
    {
     "data": {
      "image/png": "[encoded data removed]",
      "text/plain": [
       "<Figure size 432x288 with 1 Axes>"
      ]
     },
     "metadata": {
      "needs_background": "light"
     },
     "output_type": "display_data"
    }
   ],
   "source": [
    "t=range(0,1000,1)\n",
    "plt.plot(t,tr,c='red')\n",
    "plt.plot(t,ts,c='green')"
   ]
  },
  {
   "cell_type": "code",
   "execution_count": 199,
   "id": "fe5b80cd",
   "metadata": {},
   "outputs": [],
   "source": [
    "w=1\n",
    "lambda_to_try =[]\n",
    "\n",
    "for i in range(0, 1000, 1):\n",
    "    w = round(w+0.01,2)\n",
    "    lambda_to_try.append(w)"
   ]
  },
  {
   "cell_type": "code",
   "execution_count": 200,
   "id": "752f757d",
   "metadata": {},
   "outputs": [],
   "source": [
    "tr=[]\n",
    "ts=[]\n",
    "for i in lambda_to_try:\n",
    "    ls=Lasso(alpha=i)\n",
    "    model=rr.fit(xtrain,ytrain)\n",
    "    pred_tr=model.predict(xtrain)\n",
    "    pred_ts=model.predict(xtest)\n",
    "    tr_err = mean_absolute_error(ytrain, pred_tr)\n",
    "    ts_err = mean_absolute_error(ytest, pred_ts)\n",
    "    tr.append(tr_err)\n",
    "    ts.append(ts_err)"
   ]
  },
  {
   "cell_type": "code",
   "execution_count": 201,
   "id": "8c2abe4c",
   "metadata": {},
   "outputs": [
    {
     "data": {
      "text/plain": [
       "[<matplotlib.lines.Line2D at 0x285fa9e5970>]"
      ]
     },
     "execution_count": 201,
     "metadata": {},
     "output_type": "execute_result"
    },
    {
     "data": {
      "image/png": "[encoded data removed]",
      "text/plain": [
       "<Figure size 432x288 with 1 Axes>"
      ]
     },
     "metadata": {
      "needs_background": "light"
     },
     "output_type": "display_data"
    }
   ],
   "source": [
    "t=range(0,1000,1)\n",
    "plt.plot(t,tr,c='red')\n",
    "plt.plot(t,ts,c='green')"
   ]
  },
  {
   "cell_type": "code",
   "execution_count": 202,
   "id": "6dacd9ca",
   "metadata": {},
   "outputs": [
    {
     "data": {
      "text/plain": [
       "11.0"
      ]
     },
     "execution_count": 202,
     "metadata": {},
     "output_type": "execute_result"
    }
   ],
   "source": [
    "lambda_to_try[-1]"
   ]
  },
  {
   "cell_type": "code",
   "execution_count": 277,
   "id": "e2a772a7",
   "metadata": {},
   "outputs": [
    {
     "name": "stdout",
     "output_type": "stream",
     "text": [
      "13816.837487247865 17513.21063704397\n",
      "3696.3731497961035\n"
     ]
    }
   ],
   "source": [
    "ls=Lasso(alpha=87)\n",
    "model=ls.fit(xtrain,ytrain)\n",
    "pred_tr=model.predict(xtrain)\n",
    "pred_ts=model.predict(xtest)\n",
    "tr_err = mean_absolute_error(ytrain, pred_tr)\n",
    "ts_err = mean_absolute_error(ytest, pred_ts)\n",
    "print(tr_err,ts_err)\n",
    "print(ts_err-tr_err)"
   ]
  },
  {
   "cell_type": "code",
   "execution_count": 279,
   "id": "2c1a34ac",
   "metadata": {},
   "outputs": [
    {
     "name": "stdout",
     "output_type": "stream",
     "text": [
      "14838.905395132078 18416.341763484495\n",
      "3577.436368352417\n"
     ]
    }
   ],
   "source": [
    "rr=Ridge(alpha=12)\n",
    "model=rr.fit(xtrain,ytrain)\n",
    "pred_tr=model.predict(xtrain)\n",
    "pred_ts=model.predict(xtest)\n",
    "tr_err = mean_absolute_error(ytrain, pred_tr)\n",
    "ts_err = mean_absolute_error(ytest, pred_ts)\n",
    "print(tr_err,ts_err)\n",
    "print(ts_err-tr_err)\n",
    "\n",
    "#so ridge is best model maybe"
   ]
  },
  {
   "cell_type": "code",
   "execution_count": 280,
   "id": "58c06bd3",
   "metadata": {},
   "outputs": [
    {
     "data": {
      "text/plain": [
       "Index(['LotFrontage', 'LotArea', 'OverallQual', 'OverallCond', 'YearBuilt',\n",
       "       'YearRemodAdd', 'MasVnrArea', 'BsmtFinSF1', 'TotalBsmtSF', '1stFlrSF',\n",
       "       ...\n",
       "       'PoolQC_No Pool', 'Fence_GdPrv', 'Fence_MnWw', 'Fence_No Fence',\n",
       "       'SaleType_COD', 'SaleType_New', 'SaleType_WD', 'SaleCondition_Family',\n",
       "       'SaleCondition_Normal', 'SaleCondition_Partial'],\n",
       "      dtype='object', length=140)"
      ]
     },
     "execution_count": 280,
     "metadata": {},
     "output_type": "execute_result"
    }
   ],
   "source": [
    "xtrain.columns"
   ]
  },
  {
   "cell_type": "code",
   "execution_count": 282,
   "id": "63393c7a",
   "metadata": {},
   "outputs": [],
   "source": [
    "xtest=test.drop(labels=['Id'],axis=1)"
   ]
  },
  {
   "cell_type": "code",
   "execution_count": 283,
   "id": "ba33d045",
   "metadata": {},
   "outputs": [],
   "source": [
    "cat = []\n",
    "con = []\n",
    "for i in xtest.columns:\n",
    "    if(xtest[i].dtypes == \"object\"):\n",
    "        cat.append(i)\n",
    "    else:\n",
    "        con.append(i)"
   ]
  },
  {
   "cell_type": "code",
   "execution_count": 285,
   "id": "d734d84f",
   "metadata": {},
   "outputs": [],
   "source": [
    "from sklearn.preprocessing import StandardScaler\n",
    "ss = StandardScaler()\n",
    "X1 = pd.DataFrame(ss.fit_transform(xtest[con]),columns=con)\n",
    "X2 = pd.get_dummies(xtest[cat])\n",
    "Xnew = X1.join(X2)"
   ]
  },
  {
   "cell_type": "code",
   "execution_count": 286,
   "id": "ff8adc00",
   "metadata": {},
   "outputs": [],
   "source": [
    "xtest_new=Xnew"
   ]
  },
  {
   "cell_type": "code",
   "execution_count": 288,
   "id": "e8449567",
   "metadata": {},
   "outputs": [
    {
     "ename": "KeyError",
     "evalue": "\"['Condition2_RRAe', 'HouseStyle_2.5Fin', 'RoofMatl_ClyTile', 'RoofMatl_Membran', 'RoofMatl_Metal', 'RoofMatl_Roll', 'Heating_OthW', 'GarageQual_Ex', 'PoolQC_Fa'] not in index\"",
     "output_type": "error",
     "traceback": [
      "\u001b[1;31m---------------------------------------------------------------------------\u001b[0m",
      "\u001b[1;31mKeyError\u001b[0m                                  Traceback (most recent call last)",
      "\u001b[1;32m~\\AppData\\Local\\Temp/ipykernel_11772/1727373244.py\u001b[0m in \u001b[0;36m<module>\u001b[1;34m\u001b[0m\n\u001b[1;32m----> 1\u001b[1;33m \u001b[0mxtest_new\u001b[0m\u001b[1;33m=\u001b[0m\u001b[0mxtest_new\u001b[0m\u001b[1;33m[\u001b[0m\u001b[0mxtrain\u001b[0m\u001b[1;33m.\u001b[0m\u001b[0mcolumns\u001b[0m\u001b[1;33m]\u001b[0m\u001b[1;33m\u001b[0m\u001b[1;33m\u001b[0m\u001b[0m\n\u001b[0m",
      "\u001b[1;32m~\\anaconda3\\lib\\site-packages\\pandas\\core\\frame.py\u001b[0m in \u001b[0;36m__getitem__\u001b[1;34m(self, key)\u001b[0m\n\u001b[0;32m   3462\u001b[0m             \u001b[1;32mif\u001b[0m \u001b[0mis_iterator\u001b[0m\u001b[1;33m(\u001b[0m\u001b[0mkey\u001b[0m\u001b[1;33m)\u001b[0m\u001b[1;33m:\u001b[0m\u001b[1;33m\u001b[0m\u001b[1;33m\u001b[0m\u001b[0m\n\u001b[0;32m   3463\u001b[0m                 \u001b[0mkey\u001b[0m \u001b[1;33m=\u001b[0m \u001b[0mlist\u001b[0m\u001b[1;33m(\u001b[0m\u001b[0mkey\u001b[0m\u001b[1;33m)\u001b[0m\u001b[1;33m\u001b[0m\u001b[1;33m\u001b[0m\u001b[0m\n\u001b[1;32m-> 3464\u001b[1;33m             \u001b[0mindexer\u001b[0m \u001b[1;33m=\u001b[0m \u001b[0mself\u001b[0m\u001b[1;33m.\u001b[0m\u001b[0mloc\u001b[0m\u001b[1;33m.\u001b[0m\u001b[0m_get_listlike_indexer\u001b[0m\u001b[1;33m(\u001b[0m\u001b[0mkey\u001b[0m\u001b[1;33m,\u001b[0m \u001b[0maxis\u001b[0m\u001b[1;33m=\u001b[0m\u001b[1;36m1\u001b[0m\u001b[1;33m)\u001b[0m\u001b[1;33m[\u001b[0m\u001b[1;36m1\u001b[0m\u001b[1;33m]\u001b[0m\u001b[1;33m\u001b[0m\u001b[1;33m\u001b[0m\u001b[0m\n\u001b[0m\u001b[0;32m   3465\u001b[0m \u001b[1;33m\u001b[0m\u001b[0m\n\u001b[0;32m   3466\u001b[0m         \u001b[1;31m# take() does not accept boolean indexers\u001b[0m\u001b[1;33m\u001b[0m\u001b[1;33m\u001b[0m\u001b[0m\n",
      "\u001b[1;32m~\\anaconda3\\lib\\site-packages\\pandas\\core\\indexing.py\u001b[0m in \u001b[0;36m_get_listlike_indexer\u001b[1;34m(self, key, axis)\u001b[0m\n\u001b[0;32m   1312\u001b[0m             \u001b[0mkeyarr\u001b[0m\u001b[1;33m,\u001b[0m \u001b[0mindexer\u001b[0m\u001b[1;33m,\u001b[0m \u001b[0mnew_indexer\u001b[0m \u001b[1;33m=\u001b[0m \u001b[0max\u001b[0m\u001b[1;33m.\u001b[0m\u001b[0m_reindex_non_unique\u001b[0m\u001b[1;33m(\u001b[0m\u001b[0mkeyarr\u001b[0m\u001b[1;33m)\u001b[0m\u001b[1;33m\u001b[0m\u001b[1;33m\u001b[0m\u001b[0m\n\u001b[0;32m   1313\u001b[0m \u001b[1;33m\u001b[0m\u001b[0m\n\u001b[1;32m-> 1314\u001b[1;33m         \u001b[0mself\u001b[0m\u001b[1;33m.\u001b[0m\u001b[0m_validate_read_indexer\u001b[0m\u001b[1;33m(\u001b[0m\u001b[0mkeyarr\u001b[0m\u001b[1;33m,\u001b[0m \u001b[0mindexer\u001b[0m\u001b[1;33m,\u001b[0m \u001b[0maxis\u001b[0m\u001b[1;33m)\u001b[0m\u001b[1;33m\u001b[0m\u001b[1;33m\u001b[0m\u001b[0m\n\u001b[0m\u001b[0;32m   1315\u001b[0m \u001b[1;33m\u001b[0m\u001b[0m\n\u001b[0;32m   1316\u001b[0m         if needs_i8_conversion(ax.dtype) or isinstance(\n",
      "\u001b[1;32m~\\anaconda3\\lib\\site-packages\\pandas\\core\\indexing.py\u001b[0m in \u001b[0;36m_validate_read_indexer\u001b[1;34m(self, key, indexer, axis)\u001b[0m\n\u001b[0;32m   1375\u001b[0m \u001b[1;33m\u001b[0m\u001b[0m\n\u001b[0;32m   1376\u001b[0m             \u001b[0mnot_found\u001b[0m \u001b[1;33m=\u001b[0m \u001b[0mlist\u001b[0m\u001b[1;33m(\u001b[0m\u001b[0mensure_index\u001b[0m\u001b[1;33m(\u001b[0m\u001b[0mkey\u001b[0m\u001b[1;33m)\u001b[0m\u001b[1;33m[\u001b[0m\u001b[0mmissing_mask\u001b[0m\u001b[1;33m.\u001b[0m\u001b[0mnonzero\u001b[0m\u001b[1;33m(\u001b[0m\u001b[1;33m)\u001b[0m\u001b[1;33m[\u001b[0m\u001b[1;36m0\u001b[0m\u001b[1;33m]\u001b[0m\u001b[1;33m]\u001b[0m\u001b[1;33m.\u001b[0m\u001b[0munique\u001b[0m\u001b[1;33m(\u001b[0m\u001b[1;33m)\u001b[0m\u001b[1;33m)\u001b[0m\u001b[1;33m\u001b[0m\u001b[1;33m\u001b[0m\u001b[0m\n\u001b[1;32m-> 1377\u001b[1;33m             \u001b[1;32mraise\u001b[0m \u001b[0mKeyError\u001b[0m\u001b[1;33m(\u001b[0m\u001b[1;34mf\"{not_found} not in index\"\u001b[0m\u001b[1;33m)\u001b[0m\u001b[1;33m\u001b[0m\u001b[1;33m\u001b[0m\u001b[0m\n\u001b[0m\u001b[0;32m   1378\u001b[0m \u001b[1;33m\u001b[0m\u001b[0m\n\u001b[0;32m   1379\u001b[0m \u001b[1;33m\u001b[0m\u001b[0m\n",
      "\u001b[1;31mKeyError\u001b[0m: \"['Condition2_RRAe', 'HouseStyle_2.5Fin', 'RoofMatl_ClyTile', 'RoofMatl_Membran', 'RoofMatl_Metal', 'RoofMatl_Roll', 'Heating_OthW', 'GarageQual_Ex', 'PoolQC_Fa'] not in index\""
     ]
    }
   ],
   "source": [
    "xtest_new=xtest_new[xtrain.columns]"
   ]
  },
  {
   "cell_type": "code",
   "execution_count": 289,
   "id": "215e4905",
   "metadata": {},
   "outputs": [],
   "source": [
    "adding=['Condition2_RRAe', 'HouseStyle_2.5Fin', 'RoofMatl_ClyTile', 'RoofMatl_Membran', 'RoofMatl_Metal', 'RoofMatl_Roll', 'Heating_OthW', 'GarageQual_Ex', 'PoolQC_Fa']"
   ]
  },
  {
   "cell_type": "code",
   "execution_count": 290,
   "id": "b8cb0828",
   "metadata": {},
   "outputs": [],
   "source": [
    "xtest_new[adding]=0"
   ]
  },
  {
   "cell_type": "code",
   "execution_count": 291,
   "id": "2d87c884",
   "metadata": {},
   "outputs": [],
   "source": [
    "final_data=xtest_new[list(xtrain.columns)]"
   ]
  },
  {
   "cell_type": "code",
   "execution_count": 292,
   "id": "ee496266",
   "metadata": {},
   "outputs": [],
   "source": [
    "pred=model.predict(final_data)"
   ]
  },
  {
   "cell_type": "code",
   "execution_count": 293,
   "id": "dab389ac",
   "metadata": {},
   "outputs": [],
   "source": [
    "Q=test[[\"Id\"]]"
   ]
  },
  {
   "cell_type": "code",
   "execution_count": 294,
   "id": "072d6973",
   "metadata": {},
   "outputs": [],
   "source": [
    "Q['SalePrice']=pred"
   ]
  },
  {
   "cell_type": "code",
   "execution_count": 295,
   "id": "0c530fde",
   "metadata": {},
   "outputs": [],
   "source": [
    "Q.to_csv(\"C:/Users/admin/Desktop/submit.csv\")"
   ]
  }
 ],
 "metadata": {
  "kernelspec": {
   "display_name": "Python 3 (ipykernel)",
   "language": "python",
   "name": "python3"
  },
  "language_info": {
   "codemirror_mode": {
    "name": "ipython",
    "version": 3
   },
   "file_extension": ".py",
   "mimetype": "text/x-python",
   "name": "python",
   "nbconvert_exporter": "python",
   "pygments_lexer": "ipython3",
   "version": "3.9.7"
  }
 },
 "nbformat": 4,
 "nbformat_minor": 5
}
